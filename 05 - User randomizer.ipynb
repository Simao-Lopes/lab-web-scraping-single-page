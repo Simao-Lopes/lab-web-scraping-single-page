{
 "cells": [
  {
   "cell_type": "markdown",
   "id": "6e2d41d4",
   "metadata": {},
   "source": [
    "#### Basic work libraries "
   ]
  },
  {
   "cell_type": "code",
   "execution_count": 1,
   "id": "864233da",
   "metadata": {
    "ExecuteTime": {
     "end_time": "2022-10-14T07:46:34.312855Z",
     "start_time": "2022-10-14T07:46:33.820743Z"
    }
   },
   "outputs": [],
   "source": [
    "import random\n",
    "import pickle\n",
    "import pandas as pd\n",
    "import spotipy\n",
    "from random import randint\n",
    "from IPython.display import clear_output\n",
    "\n",
    "from spotipy.oauth2 import SpotifyClientCredentials"
   ]
  },
  {
   "cell_type": "markdown",
   "id": "8fc0d393",
   "metadata": {},
   "source": [
    "#### Creating a spotipy object and conecting with key's file"
   ]
  },
  {
   "cell_type": "code",
   "execution_count": 2,
   "id": "3890bfe6",
   "metadata": {
    "ExecuteTime": {
     "end_time": "2022-10-14T07:46:35.052368Z",
     "start_time": "2022-10-14T07:46:35.036314Z"
    }
   },
   "outputs": [],
   "source": [
    "secrets_file = open(\"spotkey.txt\",\"r\")\n",
    "string = secrets_file.read()\n",
    "\n",
    "secrets_dict={}\n",
    "for line in string.split('\\n'):\n",
    "    if len(line) > 0:\n",
    "        secrets_dict[line.split(':')[0]]=line.split(':')[1]\n",
    "\n",
    "#Initialize SpotiPy with user credentials\n",
    "sp = spotipy.Spotify(auth_manager=SpotifyClientCredentials(client_id=secrets_dict['cid'],\n",
    "                                                           client_secret=secrets_dict['csecret']))"
   ]
  },
  {
   "cell_type": "markdown",
   "id": "6b146615",
   "metadata": {},
   "source": [
    "#### Loading the transfomer and cluster model previouly calculated"
   ]
  },
  {
   "cell_type": "code",
   "execution_count": 3,
   "id": "556a0156",
   "metadata": {
    "ExecuteTime": {
     "end_time": "2022-10-14T07:46:36.576911Z",
     "start_time": "2022-10-14T07:46:36.571906Z"
    }
   },
   "outputs": [],
   "source": [
    "# Import previously saved models\n",
    "def import_component(path):\n",
    "    return pickle.load(open(path, 'rb'))"
   ]
  },
  {
   "cell_type": "code",
   "execution_count": 4,
   "id": "d8361721",
   "metadata": {
    "ExecuteTime": {
     "end_time": "2022-10-14T07:46:37.774410Z",
     "start_time": "2022-10-14T07:46:37.342809Z"
    }
   },
   "outputs": [],
   "source": [
    "transformer = import_component('Model_data/scaler.sav')\n",
    "model = import_component('Model_data/model_clustering.sav')"
   ]
  },
  {
   "cell_type": "markdown",
   "id": "b323a184",
   "metadata": {},
   "source": [
    "#### Loading our data to datasets"
   ]
  },
  {
   "cell_type": "code",
   "execution_count": 5,
   "id": "29a4daa4",
   "metadata": {
    "ExecuteTime": {
     "end_time": "2022-10-14T07:46:38.787162Z",
     "start_time": "2022-10-14T07:46:38.480176Z"
    }
   },
   "outputs": [],
   "source": [
    "df_top100 = pd.read_csv('Data/Final/Top100.csv')\n",
    "df_clustered = pd.read_csv('Data/Final/Spotify dataset clustered.csv')"
   ]
  },
  {
   "cell_type": "code",
   "execution_count": 6,
   "id": "d32b9c2a",
   "metadata": {
    "ExecuteTime": {
     "end_time": "2022-10-14T07:46:40.051324Z",
     "start_time": "2022-10-14T07:46:40.033308Z"
    }
   },
   "outputs": [],
   "source": [
    "# Function to obtain an uri from a song name\n",
    "def song_uri(song_id):\n",
    "    try:\n",
    "        # Creating the spotipy element for the playlist URI\n",
    "        querry = 'track:'+str(song_id)\n",
    "        track = sp.search(q=song_id, limit=1)\n",
    "        return track['tracks']['items'][0]['uri'].split('spotify:track:')[1]                 \n",
    "    except:\n",
    "        return 'Null'"
   ]
  },
  {
   "cell_type": "code",
   "execution_count": 7,
   "id": "17860a39",
   "metadata": {
    "ExecuteTime": {
     "end_time": "2022-10-14T07:46:41.726895Z",
     "start_time": "2022-10-14T07:46:41.720889Z"
    }
   },
   "outputs": [],
   "source": [
    "# Function to get the song details of a specific URI\n",
    "def get_details(uri):\n",
    "    # Creatinga a dataframe with the columns that we need\n",
    "    playlist_lst = ['danceability','energy','key','loudness','mode', 'speechiness',\n",
    "                    'instrumentalness','liveness','valence','tempo',\n",
    "                    'duration_ms','time_signature']\n",
    "    \n",
    "    playlist_df = pd.DataFrame(columns = playlist_lst)\n",
    "    # Get audio features and adding them to the respective columns\n",
    "    audio_features = sp.audio_features(uri)[0]\n",
    "    playlist_df.loc[len(playlist_df)] = [audio_features[i] for i in playlist_lst]\n",
    "    return playlist_df"
   ]
  },
  {
   "cell_type": "markdown",
   "id": "038a7253",
   "metadata": {},
   "source": [
    "#### Main working module"
   ]
  },
  {
   "cell_type": "code",
   "execution_count": 10,
   "id": "9c1536d8",
   "metadata": {
    "ExecuteTime": {
     "end_time": "2022-10-14T07:47:33.730495Z",
     "start_time": "2022-10-14T07:47:22.008085Z"
    }
   },
   "outputs": [
    {
     "name": "stdout",
     "output_type": "stream",
     "text": [
      "Spotify sugestion!\n",
      "\n",
      "Link:  https://open.spotify.com/track/6V2eaxScgdB3aF0aRw89gD \n",
      "Song:  Balou You're My New Best Friend \n",
      "Artist:  Lucas and Juliet\n",
      "Insert song or search term:\n",
      "quit\n"
     ]
    }
   ],
   "source": [
    "state = True\n",
    "while state:\n",
    "    \n",
    "    # User inserts search term\n",
    "    print('Insert song or search term:')\n",
    "    search=input()\n",
    "    if search == 'quit':\n",
    "        state = False\n",
    "    \n",
    "    if state:\n",
    "        # flag that controls if the search string exists in the songs dataset\n",
    "        exist = False\n",
    "\n",
    "        # testing if the search string exists\n",
    "        for i in ['song', 'artist', 'genre']:\n",
    "            if len(df_top100[df_top100[i].str.contains(search, case = False, regex = False)]) != 0:\n",
    "                exist = True\n",
    "        # if the song or search term exists in the dataset we sugest a random song, otherwise we search spotify\n",
    "        if exist == True:\n",
    "            clear_output()\n",
    "            index = random.randint(0,len(df_top100))\n",
    "            print('\\nI have a sugestion! \\n\\nLink: ','https://open.spotify.com/track/'+df_top100['uri'].values[index],  '\\nSong: ',df_top100['song'].values[index],  '\\nArtist: ', df_top100['artist'].values[index])      \n",
    "        else:\n",
    "            # Using a try calause because the user can insert a song that's not on spotify, and the app will crash\n",
    "            try:\n",
    "                clear_output()\n",
    "                # creating a single row dataframe with all the audio features from the song the user inserted\n",
    "                df = get_details(song_uri(search))\n",
    "                # calculating the cluster number for the song the user sugested\n",
    "                cluster = model.predict(pd.DataFrame(transformer.transform(df), columns = df.columns))\n",
    "                print('Spotify sugestion!')\n",
    "                # filtering our dataset to a new dataset just containing the rows of the matching cluster of the user input song\n",
    "                element = df_clustered[df_clustered['cluster'] == int(cluster)]\n",
    "                # randomizing a row number from the subset\n",
    "                index = random.randint(0,len(element))\n",
    "                print('\\nLink: ','https://open.spotify.com/track/'+element['track_id'].values[index],  '\\nSong: ',element['track_name'].values[index],  '\\nArtist: ', element['artist'].values[index])\n",
    "            except:\n",
    "                # Exception in the case that the song doesn't exists in spotify\n",
    "                print('Invalid song. Sorry!')\n"
   ]
  },
  {
   "attachments": {
    "Gnoosic.PNG": {
     "image/png": "[encoded data removed]"
    }
   },
   "cell_type": "markdown",
   "id": "58bcd537",
   "metadata": {},
   "source": [
    "![Gnoosic.PNG](attachment:Gnoosic.PNG)"
   ]
  }
 ],
 "metadata": {
  "kernelspec": {
   "display_name": "Python 3 (ipykernel)",
   "language": "python",
   "name": "python3"
  },
  "language_info": {
   "codemirror_mode": {
    "name": "ipython",
    "version": 3
   },
   "file_extension": ".py",
   "mimetype": "text/x-python",
   "name": "python",
   "nbconvert_exporter": "python",
   "pygments_lexer": "ipython3",
   "version": "3.9.12"
  },
  "toc": {
   "base_numbering": 1,
   "nav_menu": {},
   "number_sections": true,
   "sideBar": true,
   "skip_h1_title": false,
   "title_cell": "Table of Contents",
   "title_sidebar": "Contents",
   "toc_cell": false,
   "toc_position": {},
   "toc_section_display": true,
   "toc_window_display": false
  }
 },
 "nbformat": 4,
 "nbformat_minor": 5
}
