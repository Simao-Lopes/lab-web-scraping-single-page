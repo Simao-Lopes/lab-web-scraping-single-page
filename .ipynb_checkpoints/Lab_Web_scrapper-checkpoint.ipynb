{
 "cells": [
  {
   "cell_type": "markdown",
   "id": "536aa518",
   "metadata": {},
   "source": [
    "#### Lab - Web scrapping"
   ]
  },
  {
   "cell_type": "code",
   "execution_count": 1,
   "id": "2b67af0a",
   "metadata": {
    "ExecuteTime": {
     "end_time": "2022-10-10T21:16:16.917796Z",
     "start_time": "2022-10-10T21:16:15.495515Z"
    }
   },
   "outputs": [],
   "source": [
    "from bs4 import BeautifulSoup\n",
    "import requests\n",
    "import pandas as pd\n",
    "from random import randint\n",
    "import random\n",
    "from time import sleep"
   ]
  },
  {
   "cell_type": "code",
   "execution_count": 3,
   "id": "5a669583",
   "metadata": {
    "ExecuteTime": {
     "end_time": "2022-10-10T21:16:33.788550Z",
     "start_time": "2022-10-10T21:16:33.777539Z"
    }
   },
   "outputs": [],
   "source": [
    "url = \"https://www.popvortex.com/music/charts/top-100-songs.php\""
   ]
  },
  {
   "cell_type": "code",
   "execution_count": 4,
   "id": "414262fe",
   "metadata": {
    "ExecuteTime": {
     "end_time": "2022-10-10T21:16:35.606382Z",
     "start_time": "2022-10-10T21:16:34.541358Z"
    }
   },
   "outputs": [
    {
     "data": {
      "text/plain": [
       "200"
      ]
     },
     "execution_count": 4,
     "metadata": {},
     "output_type": "execute_result"
    }
   ],
   "source": [
    "response = requests.get(url)\n",
    "response.status_code"
   ]
  },
  {
   "cell_type": "code",
   "execution_count": 5,
   "id": "4cb6db83",
   "metadata": {
    "ExecuteTime": {
     "end_time": "2022-10-10T21:16:36.794476Z",
     "start_time": "2022-10-10T21:16:36.663354Z"
    }
   },
   "outputs": [],
   "source": [
    "soup = BeautifulSoup(response.content, \"html.parser\")"
   ]
  },
  {
   "cell_type": "markdown",
   "id": "b7353f8d",
   "metadata": {},
   "source": [
    "Building the song and artist lists from the scrapped data"
   ]
  },
  {
   "cell_type": "code",
   "execution_count": 6,
   "id": "e4775609",
   "metadata": {
    "ExecuteTime": {
     "end_time": "2022-10-10T21:16:38.243399Z",
     "start_time": "2022-10-10T21:16:38.185352Z"
    }
   },
   "outputs": [],
   "source": [
    "#initialize empty lists\n",
    "position = []\n",
    "song = []\n",
    "artist = []\n",
    "\n",
    "num_iter = len(soup.select(\"div.chart-content.col-xs-12.col-sm-8 > p > cite\"))\n",
    "\n",
    "song_list = soup.select(\"div.chart-content.col-xs-12.col-sm-8 > p > cite\")\n",
    "art_list = soup.select(\"div.chart-content.col-xs-12.col-sm-8 > p > em\")\n",
    "\n",
    "# iterate through the result set and retrive all the data\n",
    "for i in range(num_iter):\n",
    "    song.append(song_list[i].get_text())\n",
    "    artist.append(art_list[i].get_text())\n",
    "    position.append(i+1)\n",
    "    "
   ]
  },
  {
   "cell_type": "markdown",
   "id": "1f6f9360",
   "metadata": {},
   "source": [
    "#### Scraping/treating Genre and Release date\n",
    "The website stores all details on parent components but if it is a new release the first element is \n",
    "\"first release\", otherwise is the genre.\n",
    "So genre, release date are on 0 and 1 index regularly, 1 and 2 if it's a new release."
   ]
  },
  {
   "cell_type": "code",
   "execution_count": 7,
   "id": "d44e7f0c",
   "metadata": {
    "ExecuteTime": {
     "end_time": "2022-10-10T21:16:41.740956Z",
     "start_time": "2022-10-10T21:16:39.846348Z"
    },
    "scrolled": true
   },
   "outputs": [],
   "source": [
    "# list to store all elements\n",
    "multi = []\n",
    "\n",
    "for i in range(100):\n",
    "    multi.append(soup.select(\"#chart-position-\"+str(i+1)+\" > div.chart-content.col-xs-12.col-sm-8 > ul > li\"))\n",
    "\n",
    "# genre and release date sublists \n",
    "genre = []\n",
    "release = []\n",
    "\n",
    "# release date are on 0 and 1 index regularly, 1 and 2 if it's a new release\n",
    "for element in multi:\n",
    "    if element[0].get_text() == 'New Release':\n",
    "        genre.append(element[1].get_text().split('Genre: ')[1])\n",
    "        release.append(element[2].get_text().split('Release Date: ')[1])\n",
    "    else:\n",
    "        genre.append(element[0].get_text().split('Genre: ')[1])\n",
    "        release.append(element[1].get_text().split('Release Date: ')[1])\n"
   ]
  },
  {
   "cell_type": "markdown",
   "id": "89fe241e",
   "metadata": {},
   "source": [
    "#### Creating a new dataset with the previously generated lists"
   ]
  },
  {
   "cell_type": "code",
   "execution_count": 8,
   "id": "812409e7",
   "metadata": {
    "ExecuteTime": {
     "end_time": "2022-10-10T21:16:42.923417Z",
     "start_time": "2022-10-10T21:16:42.908403Z"
    }
   },
   "outputs": [],
   "source": [
    "top100 = pd.DataFrame({\"rank\":position,\n",
    "                       \"song\":song,\n",
    "                       \"artist\":artist,\n",
    "                       \"genre\": genre,\n",
    "                       \"release\": release\n",
    "                      })"
   ]
  },
  {
   "cell_type": "code",
   "execution_count": 9,
   "id": "46b086e6",
   "metadata": {
    "ExecuteTime": {
     "end_time": "2022-10-10T21:16:44.587363Z",
     "start_time": "2022-10-10T21:16:44.570346Z"
    }
   },
   "outputs": [
    {
     "data": {
      "text/html": [
       "<div>\n",
       "<style scoped>\n",
       "    .dataframe tbody tr th:only-of-type {\n",
       "        vertical-align: middle;\n",
       "    }\n",
       "\n",
       "    .dataframe tbody tr th {\n",
       "        vertical-align: top;\n",
       "    }\n",
       "\n",
       "    .dataframe thead th {\n",
       "        text-align: right;\n",
       "    }\n",
       "</style>\n",
       "<table border=\"1\" class=\"dataframe\">\n",
       "  <thead>\n",
       "    <tr style=\"text-align: right;\">\n",
       "      <th></th>\n",
       "      <th>rank</th>\n",
       "      <th>song</th>\n",
       "      <th>artist</th>\n",
       "      <th>genre</th>\n",
       "      <th>release</th>\n",
       "    </tr>\n",
       "  </thead>\n",
       "  <tbody>\n",
       "    <tr>\n",
       "      <th>0</th>\n",
       "      <td>1</td>\n",
       "      <td>Unholy</td>\n",
       "      <td>Sam Smith &amp; Kim Petras</td>\n",
       "      <td>Pop</td>\n",
       "      <td>September 22, 2022</td>\n",
       "    </tr>\n",
       "    <tr>\n",
       "      <th>1</th>\n",
       "      <td>2</td>\n",
       "      <td>Eagle (feat. KB)</td>\n",
       "      <td>Transformation Worship</td>\n",
       "      <td>Hip-Hop / Rap</td>\n",
       "      <td>October 7, 2022</td>\n",
       "    </tr>\n",
       "    <tr>\n",
       "      <th>2</th>\n",
       "      <td>3</td>\n",
       "      <td>Everywhere</td>\n",
       "      <td>Fleetwood Mac</td>\n",
       "      <td>Rock</td>\n",
       "      <td>April 14, 1987</td>\n",
       "    </tr>\n",
       "    <tr>\n",
       "      <th>3</th>\n",
       "      <td>4</td>\n",
       "      <td>I'm Good (Blue)</td>\n",
       "      <td>David Guetta &amp; Bebe Rexha</td>\n",
       "      <td>Dance</td>\n",
       "      <td>August 26, 2022</td>\n",
       "    </tr>\n",
       "    <tr>\n",
       "      <th>4</th>\n",
       "      <td>5</td>\n",
       "      <td>wait in the truck</td>\n",
       "      <td>HARDY &amp; Lainey Wilson</td>\n",
       "      <td>Country</td>\n",
       "      <td>August 26, 2022</td>\n",
       "    </tr>\n",
       "  </tbody>\n",
       "</table>\n",
       "</div>"
      ],
      "text/plain": [
       "   rank               song                     artist          genre  \\\n",
       "0     1             Unholy     Sam Smith & Kim Petras            Pop   \n",
       "1     2   Eagle (feat. KB)     Transformation Worship  Hip-Hop / Rap   \n",
       "2     3         Everywhere              Fleetwood Mac           Rock   \n",
       "3     4    I'm Good (Blue)  David Guetta & Bebe Rexha          Dance   \n",
       "4     5  wait in the truck      HARDY & Lainey Wilson        Country   \n",
       "\n",
       "              release  \n",
       "0  September 22, 2022  \n",
       "1     October 7, 2022  \n",
       "2      April 14, 1987  \n",
       "3     August 26, 2022  \n",
       "4     August 26, 2022  "
      ]
     },
     "execution_count": 9,
     "metadata": {},
     "output_type": "execute_result"
    }
   ],
   "source": [
    "top100.head(5)"
   ]
  },
  {
   "cell_type": "markdown",
   "id": "a08fea09",
   "metadata": {},
   "source": [
    "#### Scrapping other sources and styles"
   ]
  },
  {
   "cell_type": "code",
   "execution_count": 132,
   "id": "fadd3691",
   "metadata": {
    "ExecuteTime": {
     "end_time": "2022-10-10T16:42:28.249076Z",
     "start_time": "2022-10-10T16:42:28.234055Z"
    }
   },
   "outputs": [],
   "source": [
    "# function to scrap the website based on begin year and end year\n",
    "def scrap_url(main, begin=1970, end= 2021):\n",
    "    \n",
    "    df_scrap = pd.DataFrame()\n",
    "    \n",
    "    genre = ''\n",
    "    for year in range(begin, end+1):\n",
    "        #temporary containers for song and artist\n",
    "        song = []\n",
    "        artist = []\n",
    "        position = []\n",
    "        \n",
    "        # scraping individual link    \n",
    "        url = main + str(year)\n",
    "        response = requests.get(url)\n",
    "        print(year, 'request:',response.status_code)\n",
    "        \n",
    "        # parse & store html\n",
    "        soup = BeautifulSoup(response.content, \"html.parser\")\n",
    "        # select table component from soup\n",
    "        tmp = soup.select('#myTable')\n",
    "        \n",
    "        if genre == '':\n",
    "            genre = soup.select('body > div.wrappercenter > div:nth-child(2) > nav > ol > li:nth-child(3) > a > span')[0].get_text()\n",
    "\n",
    "        #song soup\n",
    "        song_list = tmp[0].select(\".song a\")\n",
    "        #artist soup\n",
    "        art_list = tmp[0].select(\".artist\")\n",
    "\n",
    "        # iterate through the result set and retrive all the data\n",
    "        for i in range(len(art_list)):\n",
    "            song.append(song_list[i].get_text().replace('\\n',''))\n",
    "            artist.append(art_list[i].get_text().replace('\\n',''))\n",
    "            position.append(i+1)\n",
    "        \n",
    "        # respectful nap:\n",
    "        wait_time = random.randint(1,3)\n",
    "        sleep(wait_time)\n",
    "        \n",
    "        # creating a temporary dataset to add to the full set to be returned\n",
    "        df_list_tmp = pd.DataFrame({\"rank\":position,\n",
    "                       \"song\":song,\n",
    "                       \"artist\":artist,\n",
    "                       \"genre\": genre,\n",
    "                       \"year\": year,\n",
    "                      })\n",
    "        df_scrap = pd.concat([df_scrap, df_list_tmp], axis = 0)\n",
    "        \n",
    "    return df_scrap"
   ]
  },
  {
   "cell_type": "markdown",
   "id": "f158ec4c",
   "metadata": {},
   "source": [
    "#### Scraping multiple sources "
   ]
  },
  {
   "cell_type": "code",
   "execution_count": null,
   "id": "59e69ee1",
   "metadata": {
    "scrolled": false
   },
   "outputs": [],
   "source": [
    "# Run only to rebuild the historical top 100 dataset\n",
    "df = []\n",
    "\n",
    "df.append(scrap_url('https://playback.fm/charts/rnb/'))\n",
    "df.append(scrap_url('https://playback.fm/charts/country/'))\n",
    "df.append(scrap_url('https://playback.fm/charts/rock/'))\n",
    "df.append(scrap_url('https://playback.fm/charts/top-100-songs/'))\n",
    "\n",
    "historic_df = pd.DataFrame()\n",
    "for i in range(3):\n",
    "    historic_df = pd.concat([historic_df, df[i]], axis = 0)"
   ]
  },
  {
   "cell_type": "markdown",
   "id": "95ee6241",
   "metadata": {},
   "source": [
    "##### Saving our scarped data to a csv file for further work"
   ]
  },
  {
   "cell_type": "code",
   "execution_count": 138,
   "id": "090e137d",
   "metadata": {
    "ExecuteTime": {
     "end_time": "2022-10-10T16:56:23.757802Z",
     "start_time": "2022-10-10T16:56:23.710164Z"
    }
   },
   "outputs": [],
   "source": [
    "historic_df.to_csv('Top 100 songs 1970-2021.csv',index=False)"
   ]
  },
  {
   "cell_type": "code",
   "execution_count": 2,
   "id": "df690da4",
   "metadata": {
    "ExecuteTime": {
     "end_time": "2022-10-10T21:16:24.594494Z",
     "start_time": "2022-10-10T21:16:24.559462Z"
    }
   },
   "outputs": [],
   "source": [
    "historic_df = pd.read_csv('Top 100 songs 1970-2021.csv')"
   ]
  },
  {
   "cell_type": "markdown",
   "id": "3f6f1a08",
   "metadata": {},
   "source": [
    "#### Joining Top 100 2022 songs, with 2021 top songs by type"
   ]
  },
  {
   "cell_type": "markdown",
   "id": "d3f6a9d4",
   "metadata": {},
   "source": [
    "Making a year column in the top 100 dataset, and dropping the release date column so it wont mess up the concat with the other dataset"
   ]
  },
  {
   "cell_type": "code",
   "execution_count": 10,
   "id": "f91b7741",
   "metadata": {
    "ExecuteTime": {
     "end_time": "2022-10-10T21:16:54.137397Z",
     "start_time": "2022-10-10T21:16:54.111382Z"
    }
   },
   "outputs": [],
   "source": [
    "top100['year'] = pd.DatetimeIndex(top100['release']).year\n",
    "top100 = top100.drop(columns='release', axis = 1)"
   ]
  },
  {
   "cell_type": "markdown",
   "id": "1e3e3d2a",
   "metadata": {},
   "source": [
    "Concatenating the lists into a bigger song dataset"
   ]
  },
  {
   "cell_type": "code",
   "execution_count": 11,
   "id": "a3a8249b",
   "metadata": {
    "ExecuteTime": {
     "end_time": "2022-10-10T21:16:55.893429Z",
     "start_time": "2022-10-10T21:16:55.886423Z"
    }
   },
   "outputs": [],
   "source": [
    "top_list = pd.concat([top100, historic_df[historic_df['year']==2021]], axis = 0)\n",
    "top_list = top_list.reset_index(drop = True)"
   ]
  },
  {
   "cell_type": "code",
   "execution_count": 14,
   "id": "e471fa5e",
   "metadata": {
    "ExecuteTime": {
     "end_time": "2022-10-10T21:17:12.520171Z",
     "start_time": "2022-10-10T21:17:09.697294Z"
    },
    "scrolled": true
   },
   "outputs": [
    {
     "name": "stdout",
     "output_type": "stream",
     "text": [
      "Insert song or search term:\n",
      "eagle\n",
      "\n",
      "I have a sugestion! \n",
      "\n",
      "Song:  SugarCrash! \n",
      "Artist:  ElyOtto\n"
     ]
    }
   ],
   "source": [
    "# User inserts search term\n",
    "print('Insert song or search term:')\n",
    "search=input()\n",
    "\n",
    "# flag that controls if the search string exists in the songs dataset\n",
    "exist = False\n",
    "\n",
    "# testing if the search string exists\n",
    "for i in ['song', 'artist', 'genre']:\n",
    "    if len(top_list[top_list[i].str.contains(search, case = False, regex = False)]) != 0:\n",
    "        exist = True\n",
    "        \n",
    "# if the song or search term exists in the dataset we sugest a random song, otherwise try tomorrow\n",
    "if exist == True:\n",
    "    index = random.randint(0,len(top_list))\n",
    "    print('\\nI have a sugestion! \\n\\nSong: ',top_list['song'].values[index],  '\\nArtist: ', top_list['artist'].values[index])      \n",
    "else:\n",
    "    print(\"\\nI don't have a sugestion, try tomorrow :)\")"
   ]
  }
 ],
 "metadata": {
  "kernelspec": {
   "display_name": "Python 3 (ipykernel)",
   "language": "python",
   "name": "python3"
  },
  "language_info": {
   "codemirror_mode": {
    "name": "ipython",
    "version": 3
   },
   "file_extension": ".py",
   "mimetype": "text/x-python",
   "name": "python",
   "nbconvert_exporter": "python",
   "pygments_lexer": "ipython3",
   "version": "3.9.12"
  },
  "toc": {
   "base_numbering": 1,
   "nav_menu": {},
   "number_sections": true,
   "sideBar": true,
   "skip_h1_title": false,
   "title_cell": "Table of Contents",
   "title_sidebar": "Contents",
   "toc_cell": false,
   "toc_position": {},
   "toc_section_display": true,
   "toc_window_display": false
  }
 },
 "nbformat": 4,
 "nbformat_minor": 5
}
