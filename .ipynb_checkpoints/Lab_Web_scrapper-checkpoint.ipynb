{
 "cells": [
  {
   "cell_type": "markdown",
   "id": "2dba68fb",
   "metadata": {},
   "source": [
    "#### Lab - Web scarpping"
   ]
  },
  {
   "cell_type": "code",
   "execution_count": 1,
   "id": "eaf6dec3",
   "metadata": {
    "ExecuteTime": {
     "end_time": "2022-10-10T11:34:10.820253Z",
     "start_time": "2022-10-10T11:34:10.384813Z"
    }
   },
   "outputs": [],
   "source": [
    "from bs4 import BeautifulSoup\n",
    "import requests\n",
    "import pandas as pd"
   ]
  },
  {
   "cell_type": "code",
   "execution_count": 2,
   "id": "41d8730c",
   "metadata": {
    "ExecuteTime": {
     "end_time": "2022-10-10T11:34:10.835476Z",
     "start_time": "2022-10-10T11:34:10.821254Z"
    }
   },
   "outputs": [],
   "source": [
    "url = \"https://www.popvortex.com/music/charts/top-100-songs.php\""
   ]
  },
  {
   "cell_type": "code",
   "execution_count": 3,
   "id": "c4d300b6",
   "metadata": {
    "ExecuteTime": {
     "end_time": "2022-10-10T11:34:11.794073Z",
     "start_time": "2022-10-10T11:34:10.836478Z"
    }
   },
   "outputs": [
    {
     "data": {
      "text/plain": [
       "200"
      ]
     },
     "execution_count": 3,
     "metadata": {},
     "output_type": "execute_result"
    }
   ],
   "source": [
    "response = requests.get(url)\n",
    "response.status_code"
   ]
  },
  {
   "cell_type": "code",
   "execution_count": 4,
   "id": "772279b0",
   "metadata": {
    "ExecuteTime": {
     "end_time": "2022-10-10T11:34:11.921508Z",
     "start_time": "2022-10-10T11:34:11.796074Z"
    }
   },
   "outputs": [],
   "source": [
    "soup = BeautifulSoup(response.content, \"html.parser\")"
   ]
  },
  {
   "cell_type": "code",
   "execution_count": 5,
   "id": "1ff8521c",
   "metadata": {
    "ExecuteTime": {
     "end_time": "2022-10-10T11:34:11.953044Z",
     "start_time": "2022-10-10T11:34:11.922510Z"
    }
   },
   "outputs": [
    {
     "data": {
      "text/plain": [
       "[<p class=\"title-artist\"><cite class=\"title\">Unholy</cite><em class=\"artist\">Sam Smith &amp; Kim Petras</em></p>,\n",
       " <p class=\"title-artist\"><cite class=\"title\">Everywhere</cite><em class=\"artist\">Fleetwood Mac</em></p>,\n",
       " <p class=\"title-artist\"><cite class=\"title\">Eagle (feat. KB)</cite><em class=\"artist\">Transformation Worship</em></p>,\n",
       " <p class=\"title-artist\"><cite class=\"title\">I'm Good (Blue)</cite><em class=\"artist\">David Guetta &amp; Bebe Rexha</em></p>,\n",
       " <p class=\"title-artist\"><cite class=\"title\">A Thousand Years</cite><em class=\"artist\">Christina Perri</em></p>,\n",
       " <p class=\"title-artist\"><cite class=\"title\">wait in the truck</cite><em class=\"artist\">HARDY &amp; Lainey Wilson</em></p>,\n",
       " <p class=\"title-artist\"><cite class=\"title\">Son Of A Sinner</cite><em class=\"artist\">Jelly Roll</em></p>,\n",
       " <p class=\"title-artist\"><cite class=\"title\">Thank God</cite><em class=\"artist\">Kane Brown &amp; Katelyn Brown</em></p>,\n",
       " <p class=\"title-artist\"><cite class=\"title\">You Proof</cite><em class=\"artist\">Morgan Wallen</em></p>,\n",
       " <p class=\"title-artist\"><cite class=\"title\">I Ain't Worried</cite><em class=\"artist\">OneRepublic</em></p>,\n",
       " <p class=\"title-artist\"><cite class=\"title\">CUFF IT</cite><em class=\"artist\">Beyoncé</em></p>,\n",
       " <p class=\"title-artist\"><cite class=\"title\">Unstoppable</cite><em class=\"artist\">Sia</em></p>,\n",
       " <p class=\"title-artist\"><cite class=\"title\">Left and Right</cite><em class=\"artist\">Charlie Puth &amp; Jung Kook</em></p>,\n",
       " <p class=\"title-artist\"><cite class=\"title\">Wasted On You</cite><em class=\"artist\">Morgan Wallen</em></p>,\n",
       " <p class=\"title-artist\"><cite class=\"title\">She Had Me At Heads Carolina</cite><em class=\"artist\">Cole Swindell</em></p>,\n",
       " <p class=\"title-artist\"><cite class=\"title\">Under the Influence</cite><em class=\"artist\">Chris Brown</em></p>,\n",
       " <p class=\"title-artist\"><cite class=\"title\">As It Was</cite><em class=\"artist\">Harry Styles</em></p>,\n",
       " <p class=\"title-artist\"><cite class=\"title\">Lose Yourself</cite><em class=\"artist\">Eminem</em></p>,\n",
       " <p class=\"title-artist\"><cite class=\"title\">Fall In Love</cite><em class=\"artist\">Bailey Zimmerman</em></p>,\n",
       " <p class=\"title-artist\"><cite class=\"title\">Bedroom Singer</cite><em class=\"artist\">J.Fla</em></p>,\n",
       " <p class=\"title-artist\"><cite class=\"title\">The Kind of Love We Make</cite><em class=\"artist\">Luke Combs</em></p>,\n",
       " <p class=\"title-artist\"><cite class=\"title\">Celestial</cite><em class=\"artist\">Ed Sheeran</em></p>,\n",
       " <p class=\"title-artist\"><cite class=\"title\">Shallow</cite><em class=\"artist\">Lady Gaga &amp; Bradley Cooper</em></p>,\n",
       " <p class=\"title-artist\"><cite class=\"title\">Life Is a Highway</cite><em class=\"artist\">Rascal Flatts</em></p>,\n",
       " <p class=\"title-artist\"><cite class=\"title\">Sunroof</cite><em class=\"artist\">Nicky Youre &amp; Dazy</em></p>,\n",
       " <p class=\"title-artist\"><cite class=\"title\">Super Freaky Girl</cite><em class=\"artist\">Nicki Minaj</em></p>,\n",
       " <p class=\"title-artist\"><cite class=\"title\">Love Me Like You Do</cite><em class=\"artist\">Ellie Goulding</em></p>,\n",
       " <p class=\"title-artist\"><cite class=\"title\">High Heels</cite><em class=\"artist\">Flo Rida &amp; Walker Hayes</em></p>,\n",
       " <p class=\"title-artist\"><cite class=\"title\">Shivers</cite><em class=\"artist\">Ed Sheeran</em></p>,\n",
       " <p class=\"title-artist\"><cite class=\"title\">I Like You (A Happier Song) [feat. Doja Cat]</cite><em class=\"artist\">Post Malone</em></p>,\n",
       " <p class=\"title-artist\"><cite class=\"title\">Hold Me Closer</cite><em class=\"artist\">Elton John &amp; Britney Spears</em></p>,\n",
       " <p class=\"title-artist\"><cite class=\"title\">Victoria’s Secret</cite><em class=\"artist\">Jax</em></p>,\n",
       " <p class=\"title-artist\"><cite class=\"title\">Running Up That Hill (A Deal with God)</cite><em class=\"artist\">Kate Bush</em></p>,\n",
       " <p class=\"title-artist\"><cite class=\"title\">About Damn Time</cite><em class=\"artist\">Lizzo</em></p>,\n",
       " <p class=\"title-artist\"><cite class=\"title\">Numb</cite><em class=\"artist\">Marshmello &amp; Khalid</em></p>,\n",
       " <p class=\"title-artist\"><cite class=\"title\">2 Be Loved (Am I Ready)</cite><em class=\"artist\">Lizzo</em></p>,\n",
       " <p class=\"title-artist\"><cite class=\"title\">Earned It</cite><em class=\"artist\">The Weeknd</em></p>,\n",
       " <p class=\"title-artist\"><cite class=\"title\">You, Me, And Whiskey</cite><em class=\"artist\">Justin Moore &amp; Priscilla Block</em></p>,\n",
       " <p class=\"title-artist\"><cite class=\"title\">You'll Be In My Heart</cite><em class=\"artist\">Phil Collins</em></p>,\n",
       " <p class=\"title-artist\"><cite class=\"title\">It Will Rain</cite><em class=\"artist\">Bruno Mars</em></p>,\n",
       " <p class=\"title-artist\"><cite class=\"title\">Gangsta's Paradise (feat. L.V.)</cite><em class=\"artist\">Coolio</em></p>,\n",
       " <p class=\"title-artist\"><cite class=\"title\">This Is Halloween</cite><em class=\"artist\">The Citizens of Halloween</em></p>,\n",
       " <p class=\"title-artist\"><cite class=\"title\">STAR WALKIN' (League of Legends Worlds Anthem)</cite><em class=\"artist\">Lil Nas X</em></p>,\n",
       " <p class=\"title-artist\"><cite class=\"title\">Rock and a Hard Place</cite><em class=\"artist\">Bailey Zimmerman</em></p>,\n",
       " <p class=\"title-artist\"><cite class=\"title\">Vegas (From the Original Motion Picture Soundtrack ELVIS)</cite><em class=\"artist\">Doja Cat</em></p>,\n",
       " <p class=\"title-artist\"><cite class=\"title\">Way of the Triune God (Hallelujah Version)</cite><em class=\"artist\">Tyler Childers</em></p>,\n",
       " <p class=\"title-artist\"><cite class=\"title\">Always Remember Us This Way</cite><em class=\"artist\">Lady Gaga</em></p>,\n",
       " <p class=\"title-artist\"><cite class=\"title\">Bones</cite><em class=\"artist\">Imagine Dragons</em></p>,\n",
       " <p class=\"title-artist\"><cite class=\"title\">Bad Habit</cite><em class=\"artist\">Steve Lacy</em></p>,\n",
       " <p class=\"title-artist\"><cite class=\"title\">What My World Spins Around</cite><em class=\"artist\">Jordan Davis</em></p>,\n",
       " <p class=\"title-artist\"><cite class=\"title\">Cold Heart (PNAU Remix)</cite><em class=\"artist\">Elton John &amp; Dua Lipa</em></p>,\n",
       " <p class=\"title-artist\"><cite class=\"title\">Soul</cite><em class=\"artist\">Lee Brice</em></p>,\n",
       " <p class=\"title-artist\"><cite class=\"title\">Something in the Orange (Z&amp;E's Version)</cite><em class=\"artist\">Zach Bryan</em></p>,\n",
       " <p class=\"title-artist\"><cite class=\"title\">Don’t Come Lookin’</cite><em class=\"artist\">Jackson Dean</em></p>,\n",
       " <p class=\"title-artist\"><cite class=\"title\">Next Thing You Know</cite><em class=\"artist\">Jordan Davis</em></p>,\n",
       " <p class=\"title-artist\"><cite class=\"title\">Tennessee Orange</cite><em class=\"artist\">Megan Moroney</em></p>,\n",
       " <p class=\"title-artist\"><cite class=\"title\">Monster Mash</cite><em class=\"artist\">Bobby \"Boris\" Pickett &amp; The Crypt-Kickers</em></p>,\n",
       " <p class=\"title-artist\"><cite class=\"title\">How Do I Say Goodbye</cite><em class=\"artist\">Dean Lewis</em></p>,\n",
       " <p class=\"title-artist\"><cite class=\"title\">CUFF IT</cite><em class=\"artist\">Beyoncé</em></p>,\n",
       " <p class=\"title-artist\"><cite class=\"title\">Tennessee Whiskey</cite><em class=\"artist\">Chris Stapleton</em></p>,\n",
       " <p class=\"title-artist\"><cite class=\"title\">Forever</cite><em class=\"artist\">Drake, Kanye West, Lil Wayne &amp; Eminem</em></p>,\n",
       " <p class=\"title-artist\"><cite class=\"title\">Love Me Like I Am</cite><em class=\"artist\">for KING &amp; COUNTRY &amp; Jordin Sparks</em></p>,\n",
       " <p class=\"title-artist\"><cite class=\"title\">Over For You (Live in Melbourne)</cite><em class=\"artist\">Morgan Evans</em></p>,\n",
       " <p class=\"title-artist\"><cite class=\"title\">The Joke</cite><em class=\"artist\">Brandi Carlile</em></p>,\n",
       " <p class=\"title-artist\"><cite class=\"title\">Forget Me</cite><em class=\"artist\">Lewis Capaldi</em></p>,\n",
       " <p class=\"title-artist\"><cite class=\"title\">5 Foot 9</cite><em class=\"artist\">Tyler Hubbard</em></p>,\n",
       " <p class=\"title-artist\"><cite class=\"title\">Something in the Orange</cite><em class=\"artist\">Zach Bryan</em></p>,\n",
       " <p class=\"title-artist\"><cite class=\"title\">Take Me Home, Country Roads</cite><em class=\"artist\">John Denver</em></p>,\n",
       " <p class=\"title-artist\"><cite class=\"title\">Hold My Hand</cite><em class=\"artist\">Lady Gaga</em></p>,\n",
       " <p class=\"title-artist\"><cite class=\"title\">Late Night Talking</cite><em class=\"artist\">Harry Styles</em></p>,\n",
       " <p class=\"title-artist\"><cite class=\"title\">Tití Me Preguntó</cite><em class=\"artist\">Bad Bunny</em></p>,\n",
       " <p class=\"title-artist\"><cite class=\"title\">Narco</cite><em class=\"artist\">Blasterjaxx &amp; Timmy Trumpet</em></p>,\n",
       " <p class=\"title-artist\"><cite class=\"title\">World's Smallest Violin</cite><em class=\"artist\">AJR</em></p>,\n",
       " <p class=\"title-artist\"><cite class=\"title\">Joy of My Life</cite><em class=\"artist\">Chris Stapleton</em></p>,\n",
       " <p class=\"title-artist\"><cite class=\"title\">Never Leave</cite><em class=\"artist\">Bailey Zimmerman</em></p>,\n",
       " <p class=\"title-artist\"><cite class=\"title\">CASE 143</cite><em class=\"artist\">Stray Kids</em></p>,\n",
       " <p class=\"title-artist\"><cite class=\"title\">Betty (Get Money)</cite><em class=\"artist\">Yung Gravy</em></p>,\n",
       " <p class=\"title-artist\"><cite class=\"title\">Country On</cite><em class=\"artist\">Luke Bryan</em></p>,\n",
       " <p class=\"title-artist\"><cite class=\"title\">Half Of Me (feat. Riley Green)</cite><em class=\"artist\">Thomas Rhett</em></p>,\n",
       " <p class=\"title-artist\"><cite class=\"title\">Beer With My Friends</cite><em class=\"artist\">Kenny Chesney &amp; Old Dominion</em></p>,\n",
       " <p class=\"title-artist\"><cite class=\"title\">No Se Va (En Vivo)</cite><em class=\"artist\">Grupo Frontera</em></p>,\n",
       " <p class=\"title-artist\"><cite class=\"title\">Glimpse of Us</cite><em class=\"artist\">Joji</em></p>,\n",
       " <p class=\"title-artist\"><cite class=\"title\">I'm Good (Blue)</cite><em class=\"artist\">David Guetta &amp; Bebe Rexha</em></p>,\n",
       " <p class=\"title-artist\"><cite class=\"title\">Fancy Like</cite><em class=\"artist\">Walker Hayes</em></p>,\n",
       " <p class=\"title-artist\"><cite class=\"title\">Say My Name</cite><em class=\"artist\">ATEEZ</em></p>,\n",
       " <p class=\"title-artist\"><cite class=\"title\">Top Of The World</cite><em class=\"artist\">Shawn Mendes</em></p>,\n",
       " <p class=\"title-artist\"><cite class=\"title\">Annie's Song</cite><em class=\"artist\">John Denver</em></p>,\n",
       " <p class=\"title-artist\"><cite class=\"title\">We Don't Talk About Bruno</cite><em class=\"artist\">Carolina Gaitán - La Gaita, Mauro Castillo, Adassa, Rhenzy Feliz, Diane Guerrero, Stephanie Beatriz &amp; Encanto - Cast</em></p>,\n",
       " <p class=\"title-artist\"><cite class=\"title\">Save Me</cite><em class=\"artist\">Jelly Roll</em></p>,\n",
       " <p class=\"title-artist\"><cite class=\"title\">She Likes It (feat. Jake Scott)</cite><em class=\"artist\">Russell Dickerson &amp; Jake Scott</em></p>,\n",
       " <p class=\"title-artist\"><cite class=\"title\">Tomorrow 2</cite><em class=\"artist\">GloRilla &amp; Cardi B</em></p>,\n",
       " <p class=\"title-artist\"><cite class=\"title\">Boulevard of Broken Dreams (feat. John Gallagher Jr., Rebecca Naomi Jones, Stark Sands &amp; Company)</cite><em class=\"artist\">Green Day</em></p>,\n",
       " <p class=\"title-artist\"><cite class=\"title\">Lady Marmalade</cite><em class=\"artist\">Christina Aguilera, Lil' Kim, Mýa &amp; P!nk</em></p>,\n",
       " <p class=\"title-artist\"><cite class=\"title\">Sweet Child O' Mine</cite><em class=\"artist\">Guns N' Roses</em></p>,\n",
       " <p class=\"title-artist\"><cite class=\"title\">Likkle Miss (feat. Spice, Destra Garcia, Patrice Roberts, Lady Leshurr, Pamputtae, Dovey Magnum, Lisa Mercedez &amp; London Hill) [THE FINE NINE REMIX]</cite><em class=\"artist\">Nicki Minaj &amp; Skeng</em></p>,\n",
       " <p class=\"title-artist\"><cite class=\"title\">Me Porto Bonito</cite><em class=\"artist\">Bad Bunny &amp; Chencho Corleone</em></p>,\n",
       " <p class=\"title-artist\"><cite class=\"title\">Rocky Mountain High</cite><em class=\"artist\">John Denver</em></p>,\n",
       " <p class=\"title-artist\"><cite class=\"title\">'Til You Can't</cite><em class=\"artist\">Cody Johnson</em></p>,\n",
       " <p class=\"title-artist\"><cite class=\"title\">Whiskey Glasses</cite><em class=\"artist\">Morgan Wallen</em></p>,\n",
       " <p class=\"title-artist\"><cite class=\"title\">Sand In My Boots</cite><em class=\"artist\">Morgan Wallen</em></p>]"
      ]
     },
     "execution_count": 5,
     "metadata": {},
     "output_type": "execute_result"
    }
   ],
   "source": [
    "soup.select(\"div.chart-content.col-xs-12.col-sm-8 > p\")"
   ]
  },
  {
   "cell_type": "code",
   "execution_count": 6,
   "id": "40fb20cf",
   "metadata": {
    "ExecuteTime": {
     "end_time": "2022-10-10T11:34:12.000534Z",
     "start_time": "2022-10-10T11:34:11.954045Z"
    }
   },
   "outputs": [],
   "source": [
    "#initialize empty lists\n",
    "position = []\n",
    "song = []\n",
    "artist = []\n",
    "\n",
    "num_iter = len(soup.select(\"div.chart-content.col-xs-12.col-sm-8 > p > cite\"))\n",
    "\n",
    "song_list = soup.select(\"div.chart-content.col-xs-12.col-sm-8 > p > cite\")\n",
    "art_list = soup.select(\"div.chart-content.col-xs-12.col-sm-8 > p > em\")\n",
    "\n",
    "# iterate through the result set and retrive all the data\n",
    "for i in range(num_iter):\n",
    "    song.append(song_list[i].get_text())\n",
    "    artist.append(art_list[i].get_text())\n",
    "    position.append(i+1)\n",
    "    "
   ]
  },
  {
   "cell_type": "code",
   "execution_count": 7,
   "id": "e6f154d3",
   "metadata": {
    "ExecuteTime": {
     "end_time": "2022-10-10T11:34:13.882167Z",
     "start_time": "2022-10-10T11:34:12.001536Z"
    },
    "scrolled": true
   },
   "outputs": [],
   "source": [
    "# Getting and treating Genre and Release date they are a special case\n",
    "# The website stores all details on parent components but if it is a new release the first element is \n",
    "# \"first release\", otherwise is the genre.\n",
    "# So genre, release date are on 0 and 1 index regularly, 1 and 2 if it's a new release.\n",
    "\n",
    "# all elements list by position\n",
    "multi = []\n",
    "\n",
    "for i in range(100):\n",
    "    multi.append(soup.select(\"#chart-position-\"+str(i+1)+\" > div.chart-content.col-xs-12.col-sm-8 > ul > li\"))\n",
    "\n",
    "# genre and release date sublists \n",
    "genre = []\n",
    "release = []\n",
    "\n",
    "# release date are on 0 and 1 index regularly, 1 and 2 if it's a new release\n",
    "for element in multi:\n",
    "    if element[0].get_text() == 'New Release':\n",
    "        genre.append(element[1].get_text().split('Genre: ')[1])\n",
    "        release.append(element[2].get_text().split('Release Date: ')[1])\n",
    "    else:\n",
    "        genre.append(element[0].get_text().split('Genre: ')[1])\n",
    "        release.append(element[1].get_text().split('Release Date: ')[1])\n"
   ]
  },
  {
   "cell_type": "code",
   "execution_count": 8,
   "id": "19cb1672",
   "metadata": {
    "ExecuteTime": {
     "end_time": "2022-10-10T11:34:13.897687Z",
     "start_time": "2022-10-10T11:34:13.883168Z"
    }
   },
   "outputs": [],
   "source": [
    "# making a new dataset with the previously generated lists\n",
    "\n",
    "top100 = pd.DataFrame({\"position\":position,\n",
    "                       \"song\":song,\n",
    "                       \"artist\":artist,\n",
    "                       \"genre\": genre,\n",
    "                       \"release\": release\n",
    "                      })"
   ]
  },
  {
   "cell_type": "code",
   "execution_count": 10,
   "id": "9f8c5980",
   "metadata": {
    "ExecuteTime": {
     "end_time": "2022-10-10T12:13:56.435916Z",
     "start_time": "2022-10-10T12:13:56.419394Z"
    }
   },
   "outputs": [
    {
     "data": {
      "text/html": [
       "<div>\n",
       "<style scoped>\n",
       "    .dataframe tbody tr th:only-of-type {\n",
       "        vertical-align: middle;\n",
       "    }\n",
       "\n",
       "    .dataframe tbody tr th {\n",
       "        vertical-align: top;\n",
       "    }\n",
       "\n",
       "    .dataframe thead th {\n",
       "        text-align: right;\n",
       "    }\n",
       "</style>\n",
       "<table border=\"1\" class=\"dataframe\">\n",
       "  <thead>\n",
       "    <tr style=\"text-align: right;\">\n",
       "      <th></th>\n",
       "      <th>position</th>\n",
       "      <th>song</th>\n",
       "      <th>artist</th>\n",
       "      <th>genre</th>\n",
       "      <th>release</th>\n",
       "    </tr>\n",
       "  </thead>\n",
       "  <tbody>\n",
       "    <tr>\n",
       "      <th>0</th>\n",
       "      <td>1</td>\n",
       "      <td>Unholy</td>\n",
       "      <td>Sam Smith &amp; Kim Petras</td>\n",
       "      <td>Pop</td>\n",
       "      <td>September 22, 2022</td>\n",
       "    </tr>\n",
       "    <tr>\n",
       "      <th>1</th>\n",
       "      <td>2</td>\n",
       "      <td>Everywhere</td>\n",
       "      <td>Fleetwood Mac</td>\n",
       "      <td>Rock</td>\n",
       "      <td>April 14, 1987</td>\n",
       "    </tr>\n",
       "    <tr>\n",
       "      <th>2</th>\n",
       "      <td>3</td>\n",
       "      <td>Eagle (feat. KB)</td>\n",
       "      <td>Transformation Worship</td>\n",
       "      <td>Hip-Hop / Rap</td>\n",
       "      <td>October 7, 2022</td>\n",
       "    </tr>\n",
       "    <tr>\n",
       "      <th>3</th>\n",
       "      <td>4</td>\n",
       "      <td>I'm Good (Blue)</td>\n",
       "      <td>David Guetta &amp; Bebe Rexha</td>\n",
       "      <td>Dance</td>\n",
       "      <td>August 26, 2022</td>\n",
       "    </tr>\n",
       "    <tr>\n",
       "      <th>4</th>\n",
       "      <td>5</td>\n",
       "      <td>A Thousand Years</td>\n",
       "      <td>Christina Perri</td>\n",
       "      <td>Soundtrack</td>\n",
       "      <td>October 18, 2011</td>\n",
       "    </tr>\n",
       "  </tbody>\n",
       "</table>\n",
       "</div>"
      ],
      "text/plain": [
       "   position              song                     artist          genre  \\\n",
       "0         1            Unholy     Sam Smith & Kim Petras            Pop   \n",
       "1         2        Everywhere              Fleetwood Mac           Rock   \n",
       "2         3  Eagle (feat. KB)     Transformation Worship  Hip-Hop / Rap   \n",
       "3         4   I'm Good (Blue)  David Guetta & Bebe Rexha          Dance   \n",
       "4         5  A Thousand Years            Christina Perri     Soundtrack   \n",
       "\n",
       "              release  \n",
       "0  September 22, 2022  \n",
       "1      April 14, 1987  \n",
       "2     October 7, 2022  \n",
       "3     August 26, 2022  \n",
       "4    October 18, 2011  "
      ]
     },
     "execution_count": 10,
     "metadata": {},
     "output_type": "execute_result"
    }
   ],
   "source": [
    "top100.head(5)"
   ]
  },
  {
   "cell_type": "code",
   "execution_count": null,
   "id": "34ee912a",
   "metadata": {},
   "outputs": [],
   "source": []
  }
 ],
 "metadata": {
  "kernelspec": {
   "display_name": "Python 3 (ipykernel)",
   "language": "python",
   "name": "python3"
  },
  "language_info": {
   "codemirror_mode": {
    "name": "ipython",
    "version": 3
   },
   "file_extension": ".py",
   "mimetype": "text/x-python",
   "name": "python",
   "nbconvert_exporter": "python",
   "pygments_lexer": "ipython3",
   "version": "3.9.12"
  },
  "toc": {
   "base_numbering": 1,
   "nav_menu": {},
   "number_sections": true,
   "sideBar": true,
   "skip_h1_title": false,
   "title_cell": "Table of Contents",
   "title_sidebar": "Contents",
   "toc_cell": false,
   "toc_position": {},
   "toc_section_display": true,
   "toc_window_display": false
  }
 },
 "nbformat": 4,
 "nbformat_minor": 5
}
