{
 "cells": [
  {
   "cell_type": "markdown",
   "id": "71d6b014",
   "metadata": {},
   "source": [
    "### Spotify - grab songs and features"
   ]
  },
  {
   "cell_type": "markdown",
   "id": "d30ae076",
   "metadata": {},
   "source": [
    "#### Basic Initial imports"
   ]
  },
  {
   "cell_type": "code",
   "execution_count": 1,
   "id": "b455a42a",
   "metadata": {
    "ExecuteTime": {
     "end_time": "2022-10-18T14:06:57.163723Z",
     "start_time": "2022-10-18T14:06:56.606073Z"
    }
   },
   "outputs": [],
   "source": [
    "from bs4 import BeautifulSoup\n",
    "import requests\n",
    "import pandas as pd\n",
    "import spotipy\n",
    "from spotipy.oauth2 import SpotifyClientCredentials\n",
    "import random\n",
    "from random import randint\n",
    "from time import sleep\n",
    "import re"
   ]
  },
  {
   "cell_type": "markdown",
   "id": "7f8f2f3e",
   "metadata": {},
   "source": [
    "#### Creating the Spotify connection with spotipy object"
   ]
  },
  {
   "cell_type": "code",
   "execution_count": 2,
   "id": "b7d8867b",
   "metadata": {
    "ExecuteTime": {
     "end_time": "2022-10-18T14:06:57.179725Z",
     "start_time": "2022-10-18T14:06:57.164724Z"
    }
   },
   "outputs": [],
   "source": [
    "secrets_file = open(\"spotkey.txt\",\"r\")\n",
    "string = secrets_file.read()\n",
    "\n",
    "secrets_dict={}\n",
    "for line in string.split('\\n'):\n",
    "    if len(line) > 0:\n",
    "        secrets_dict[line.split(':')[0]]=line.split(':')[1]\n",
    "\n",
    "#Initialize SpotiPy with user credentials\n",
    "sp = spotipy.Spotify(auth_manager=SpotifyClientCredentials(client_id=secrets_dict['cid'],\n",
    "                                                           client_secret=secrets_dict['csecret']))"
   ]
  },
  {
   "cell_type": "markdown",
   "id": "532552d2",
   "metadata": {},
   "source": [
    "#### Scraping for playlist URI's"
   ]
  },
  {
   "cell_type": "code",
   "execution_count": 3,
   "id": "1ff25fab",
   "metadata": {
    "ExecuteTime": {
     "end_time": "2022-10-18T14:06:58.354061Z",
     "start_time": "2022-10-18T14:06:57.180725Z"
    }
   },
   "outputs": [
    {
     "data": {
      "text/plain": [
       "200"
      ]
     },
     "execution_count": 3,
     "metadata": {},
     "output_type": "execute_result"
    }
   ],
   "source": [
    "url = \"https://audiohype.io/resources/the-best-spotify-playlists/\"\n",
    "\n",
    "response = requests.get(url)\n",
    "response.status_code"
   ]
  },
  {
   "cell_type": "markdown",
   "id": "d8afaa40",
   "metadata": {},
   "source": [
    "Creating soup to extract the playlist URI's"
   ]
  },
  {
   "cell_type": "code",
   "execution_count": 4,
   "id": "211e955b",
   "metadata": {
    "ExecuteTime": {
     "end_time": "2022-10-18T14:06:58.400936Z",
     "start_time": "2022-10-18T14:06:58.356063Z"
    }
   },
   "outputs": [],
   "source": [
    "soup = BeautifulSoup(response.content, \"html.parser\")\n",
    "data = soup.select('.rank-math-link')"
   ]
  },
  {
   "cell_type": "markdown",
   "id": "d4a60f13",
   "metadata": {},
   "source": [
    "Utility funtions"
   ]
  },
  {
   "cell_type": "code",
   "execution_count": 5,
   "id": "11d16534",
   "metadata": {
    "ExecuteTime": {
     "end_time": "2022-10-18T14:06:58.416942Z",
     "start_time": "2022-10-18T14:06:58.401937Z"
    }
   },
   "outputs": [],
   "source": [
    "def flatten(input_list):\n",
    "    return [item for sublist in input_list for item in sublist]\n",
    "\n",
    "def reg_replace(x):\n",
    "    return re.findall(r'\\bhttps?:\\/\\/open.spotify\\.com\\/playlist\\/([^\\s?]+)',x)"
   ]
  },
  {
   "cell_type": "markdown",
   "id": "def8d657",
   "metadata": {},
   "source": [
    "Creating the playlists dataset and adding nanually 2 rows with big playlists"
   ]
  },
  {
   "cell_type": "code",
   "execution_count": 12,
   "id": "bd3dd873",
   "metadata": {
    "ExecuteTime": {
     "end_time": "2022-10-18T14:12:06.829816Z",
     "start_time": "2022-10-18T14:12:06.814802Z"
    }
   },
   "outputs": [],
   "source": [
    "# name = [x.get_text() for x in data]\n",
    "# uri = flatten([reg_replace(x['href']) for x in data])\n",
    "# name.pop(0)\n",
    "\n",
    "# playlist_uri = pd.DataFrame({\"name\": name, \"uri\":uri})\n",
    "\n",
    "playlist_uri.loc[len(playlist_uri.index)] = ['Really big one', '4rnleEAOdmFAbRcNCgZMpY']\n",
    "playlist_uri.loc[len(playlist_uri.index)] = ['The longest playlist Official', '5S8SJdl1BDc0ugpkEvFsIL']"
   ]
  },
  {
   "cell_type": "markdown",
   "id": "85b9faed",
   "metadata": {},
   "source": [
    "#### Creating a dataframe to host the results from the API"
   ]
  },
  {
   "cell_type": "code",
   "execution_count": null,
   "id": "843e4076",
   "metadata": {
    "scrolled": true
   },
   "outputs": [],
   "source": [
    "spotify_df = pd.DataFrame()\n",
    "playlist_lst = ['track_id','artist','track_name','danceability','energy','key','loudness',\n",
    "                'mode', 'speechiness','instrumentalness','liveness','valence','tempo',\n",
    "                'duration_ms','time_signature']\n",
    "\n",
    "\n",
    "for i in playlist_uri['uri'][28:30]:\n",
    "    try:\n",
    "        playlist = sp.playlist_items(i)\n",
    "        \n",
    "        while playlist['next']!=None:\n",
    "            # Create empty dictionary to be added to the dataframe\n",
    "            playlist_features = {}\n",
    "\n",
    "            # Get metadata for eache track\n",
    "            playlist_features['artist'] = [x['track']['album']['artists'][0]['name'] for x in playlist['items']]  \n",
    "            playlist_features['track_name'] = [x['track']['name'] for x in playlist['items']]\n",
    "            playlist_features['track_id'] = [x['track']['id'] for x in playlist['items']]\n",
    "\n",
    "\n",
    "            # Get audio features and adding them to the respective columns\n",
    "            audio_features = [sp.audio_features(x['track']['id'])[0] for x in playlist['items']]\n",
    "\n",
    "            for feature in playlist_lst[3:]:\n",
    "                playlist_features[feature] = [x[feature] for x in audio_features]\n",
    "\n",
    "            track_df = pd.DataFrame(playlist_features)\n",
    "            spotify_df = pd.concat([spotify_df, track_df], axis = 0)\n",
    "            print(i, 'done')\n",
    "            \n",
    "            playlist = sp.next(playlist)\n",
    "            # respectful nap\n",
    "            wait_time = random.randint(1,3)\n",
    "            print('Napping for ',wait_time,'s')\n",
    "            sleep(wait_time)\n",
    "    except:\n",
    "        print(i, 'invalid')\n"
   ]
  },
  {
   "cell_type": "markdown",
   "id": "64ad6d16",
   "metadata": {},
   "source": [
    "#### Adding few more songs from kaggle dataset"
   ]
  },
  {
   "cell_type": "code",
   "execution_count": 30,
   "id": "d3cc1757",
   "metadata": {
    "ExecuteTime": {
     "end_time": "2022-10-18T14:48:33.646159Z",
     "start_time": "2022-10-18T14:48:33.177736Z"
    }
   },
   "outputs": [
    {
     "data": {
      "text/html": [
       "<div>\n",
       "<style scoped>\n",
       "    .dataframe tbody tr th:only-of-type {\n",
       "        vertical-align: middle;\n",
       "    }\n",
       "\n",
       "    .dataframe tbody tr th {\n",
       "        vertical-align: top;\n",
       "    }\n",
       "\n",
       "    .dataframe thead th {\n",
       "        text-align: right;\n",
       "    }\n",
       "</style>\n",
       "<table border=\"1\" class=\"dataframe\">\n",
       "  <thead>\n",
       "    <tr style=\"text-align: right;\">\n",
       "      <th></th>\n",
       "      <th>artist</th>\n",
       "      <th>track_name</th>\n",
       "      <th>track_id</th>\n",
       "      <th>danceability</th>\n",
       "      <th>energy</th>\n",
       "      <th>key</th>\n",
       "      <th>loudness</th>\n",
       "      <th>mode</th>\n",
       "      <th>speechiness</th>\n",
       "      <th>instrumentalness</th>\n",
       "      <th>liveness</th>\n",
       "      <th>valence</th>\n",
       "      <th>tempo</th>\n",
       "      <th>duration_ms</th>\n",
       "      <th>time_signature</th>\n",
       "    </tr>\n",
       "  </thead>\n",
       "  <tbody>\n",
       "    <tr>\n",
       "      <th>0</th>\n",
       "      <td>Hozier</td>\n",
       "      <td>Take Me To Church</td>\n",
       "      <td>7dS5EaCoMnN7DzlpT6aRn2</td>\n",
       "      <td>0.566</td>\n",
       "      <td>0.664</td>\n",
       "      <td>4</td>\n",
       "      <td>-5.303</td>\n",
       "      <td>0</td>\n",
       "      <td>0.0464</td>\n",
       "      <td>0.000000</td>\n",
       "      <td>0.1160</td>\n",
       "      <td>0.4370</td>\n",
       "      <td>128.945</td>\n",
       "      <td>241688</td>\n",
       "      <td>4</td>\n",
       "    </tr>\n",
       "    <tr>\n",
       "      <th>1</th>\n",
       "      <td>Mike Posner</td>\n",
       "      <td>Cooler Than Me - Single Mix</td>\n",
       "      <td>2V4bv1fNWfTcyRJKmej6Sj</td>\n",
       "      <td>0.768</td>\n",
       "      <td>0.820</td>\n",
       "      <td>7</td>\n",
       "      <td>-4.630</td>\n",
       "      <td>0</td>\n",
       "      <td>0.0474</td>\n",
       "      <td>0.000000</td>\n",
       "      <td>0.6890</td>\n",
       "      <td>0.6250</td>\n",
       "      <td>129.965</td>\n",
       "      <td>213293</td>\n",
       "      <td>4</td>\n",
       "    </tr>\n",
       "    <tr>\n",
       "      <th>2</th>\n",
       "      <td>Tyler, The Creator</td>\n",
       "      <td>See You Again (feat. Kali Uchis)</td>\n",
       "      <td>7KA4W4McWYRpgf0fWsJZWB</td>\n",
       "      <td>0.558</td>\n",
       "      <td>0.559</td>\n",
       "      <td>6</td>\n",
       "      <td>-9.222</td>\n",
       "      <td>1</td>\n",
       "      <td>0.0959</td>\n",
       "      <td>0.000007</td>\n",
       "      <td>0.1090</td>\n",
       "      <td>0.6200</td>\n",
       "      <td>78.558</td>\n",
       "      <td>180387</td>\n",
       "      <td>4</td>\n",
       "    </tr>\n",
       "    <tr>\n",
       "      <th>3</th>\n",
       "      <td>Bastille</td>\n",
       "      <td>Pompeii</td>\n",
       "      <td>3gbBpTdY8lnQwqxNCcf795</td>\n",
       "      <td>0.679</td>\n",
       "      <td>0.715</td>\n",
       "      <td>9</td>\n",
       "      <td>-6.383</td>\n",
       "      <td>1</td>\n",
       "      <td>0.0407</td>\n",
       "      <td>0.000000</td>\n",
       "      <td>0.2710</td>\n",
       "      <td>0.5710</td>\n",
       "      <td>127.435</td>\n",
       "      <td>214148</td>\n",
       "      <td>4</td>\n",
       "    </tr>\n",
       "    <tr>\n",
       "      <th>4</th>\n",
       "      <td>Shakira</td>\n",
       "      <td>Hips Don't Lie (feat. Wyclef Jean)</td>\n",
       "      <td>3ZFTkvIE7kyPt6Nu3PEa7V</td>\n",
       "      <td>0.778</td>\n",
       "      <td>0.824</td>\n",
       "      <td>10</td>\n",
       "      <td>-5.892</td>\n",
       "      <td>0</td>\n",
       "      <td>0.0707</td>\n",
       "      <td>0.000000</td>\n",
       "      <td>0.4050</td>\n",
       "      <td>0.7580</td>\n",
       "      <td>100.024</td>\n",
       "      <td>218093</td>\n",
       "      <td>4</td>\n",
       "    </tr>\n",
       "    <tr>\n",
       "      <th>...</th>\n",
       "      <td>...</td>\n",
       "      <td>...</td>\n",
       "      <td>...</td>\n",
       "      <td>...</td>\n",
       "      <td>...</td>\n",
       "      <td>...</td>\n",
       "      <td>...</td>\n",
       "      <td>...</td>\n",
       "      <td>...</td>\n",
       "      <td>...</td>\n",
       "      <td>...</td>\n",
       "      <td>...</td>\n",
       "      <td>...</td>\n",
       "      <td>...</td>\n",
       "      <td>...</td>\n",
       "    </tr>\n",
       "    <tr>\n",
       "      <th>139443</th>\n",
       "      <td>Calum Scott</td>\n",
       "      <td>Come Back Home</td>\n",
       "      <td>0cvfSKcm9VeduwyYPrxtLx</td>\n",
       "      <td>0.601</td>\n",
       "      <td>0.801</td>\n",
       "      <td>11</td>\n",
       "      <td>-5.174</td>\n",
       "      <td>1</td>\n",
       "      <td>0.0323</td>\n",
       "      <td>0.000000</td>\n",
       "      <td>0.0991</td>\n",
       "      <td>0.2890</td>\n",
       "      <td>131.049</td>\n",
       "      <td>190539</td>\n",
       "      <td>4</td>\n",
       "    </tr>\n",
       "    <tr>\n",
       "      <th>139444</th>\n",
       "      <td>Saint Claire</td>\n",
       "      <td>Enough for You</td>\n",
       "      <td>43MP9F7UzvfilSrw2SqZGJ</td>\n",
       "      <td>0.387</td>\n",
       "      <td>0.249</td>\n",
       "      <td>9</td>\n",
       "      <td>-13.233</td>\n",
       "      <td>1</td>\n",
       "      <td>0.0437</td>\n",
       "      <td>0.000000</td>\n",
       "      <td>0.1030</td>\n",
       "      <td>0.3460</td>\n",
       "      <td>94.039</td>\n",
       "      <td>194583</td>\n",
       "      <td>4</td>\n",
       "    </tr>\n",
       "    <tr>\n",
       "      <th>139445</th>\n",
       "      <td>Mike Stud</td>\n",
       "      <td>Do It</td>\n",
       "      <td>4TWlUuFk81NGUNKwndyS5Q</td>\n",
       "      <td>0.717</td>\n",
       "      <td>0.532</td>\n",
       "      <td>8</td>\n",
       "      <td>-8.351</td>\n",
       "      <td>0</td>\n",
       "      <td>0.2060</td>\n",
       "      <td>0.000000</td>\n",
       "      <td>0.0997</td>\n",
       "      <td>0.5460</td>\n",
       "      <td>156.977</td>\n",
       "      <td>139191</td>\n",
       "      <td>4</td>\n",
       "    </tr>\n",
       "    <tr>\n",
       "      <th>139446</th>\n",
       "      <td>D Savage</td>\n",
       "      <td>No Smoke</td>\n",
       "      <td>5iGBXzOoRo4sBTy8wdzMyK</td>\n",
       "      <td>0.772</td>\n",
       "      <td>0.510</td>\n",
       "      <td>4</td>\n",
       "      <td>-9.670</td>\n",
       "      <td>0</td>\n",
       "      <td>0.1200</td>\n",
       "      <td>0.000000</td>\n",
       "      <td>0.1310</td>\n",
       "      <td>0.0755</td>\n",
       "      <td>120.049</td>\n",
       "      <td>180013</td>\n",
       "      <td>4</td>\n",
       "    </tr>\n",
       "    <tr>\n",
       "      <th>139447</th>\n",
       "      <td>Banda Los Sebastianes</td>\n",
       "      <td>En Vida</td>\n",
       "      <td>7LNtyuekYHiZ99UxkrfCQR</td>\n",
       "      <td>0.715</td>\n",
       "      <td>0.734</td>\n",
       "      <td>3</td>\n",
       "      <td>-3.244</td>\n",
       "      <td>1</td>\n",
       "      <td>0.0367</td>\n",
       "      <td>0.000000</td>\n",
       "      <td>0.1080</td>\n",
       "      <td>0.9760</td>\n",
       "      <td>130.128</td>\n",
       "      <td>145827</td>\n",
       "      <td>3</td>\n",
       "    </tr>\n",
       "  </tbody>\n",
       "</table>\n",
       "<p>139448 rows × 15 columns</p>\n",
       "</div>"
      ],
      "text/plain": [
       "                       artist                          track_name  \\\n",
       "0                      Hozier                   Take Me To Church   \n",
       "1                 Mike Posner         Cooler Than Me - Single Mix   \n",
       "2          Tyler, The Creator    See You Again (feat. Kali Uchis)   \n",
       "3                    Bastille                             Pompeii   \n",
       "4                     Shakira  Hips Don't Lie (feat. Wyclef Jean)   \n",
       "...                       ...                                 ...   \n",
       "139443            Calum Scott                      Come Back Home   \n",
       "139444           Saint Claire                      Enough for You   \n",
       "139445              Mike Stud                               Do It   \n",
       "139446               D Savage                            No Smoke   \n",
       "139447  Banda Los Sebastianes                             En Vida   \n",
       "\n",
       "                      track_id  danceability  energy  key  loudness  mode  \\\n",
       "0       7dS5EaCoMnN7DzlpT6aRn2         0.566   0.664    4    -5.303     0   \n",
       "1       2V4bv1fNWfTcyRJKmej6Sj         0.768   0.820    7    -4.630     0   \n",
       "2       7KA4W4McWYRpgf0fWsJZWB         0.558   0.559    6    -9.222     1   \n",
       "3       3gbBpTdY8lnQwqxNCcf795         0.679   0.715    9    -6.383     1   \n",
       "4       3ZFTkvIE7kyPt6Nu3PEa7V         0.778   0.824   10    -5.892     0   \n",
       "...                        ...           ...     ...  ...       ...   ...   \n",
       "139443  0cvfSKcm9VeduwyYPrxtLx         0.601   0.801   11    -5.174     1   \n",
       "139444  43MP9F7UzvfilSrw2SqZGJ         0.387   0.249    9   -13.233     1   \n",
       "139445  4TWlUuFk81NGUNKwndyS5Q         0.717   0.532    8    -8.351     0   \n",
       "139446  5iGBXzOoRo4sBTy8wdzMyK         0.772   0.510    4    -9.670     0   \n",
       "139447  7LNtyuekYHiZ99UxkrfCQR         0.715   0.734    3    -3.244     1   \n",
       "\n",
       "        speechiness  instrumentalness  liveness  valence    tempo  \\\n",
       "0            0.0464          0.000000    0.1160   0.4370  128.945   \n",
       "1            0.0474          0.000000    0.6890   0.6250  129.965   \n",
       "2            0.0959          0.000007    0.1090   0.6200   78.558   \n",
       "3            0.0407          0.000000    0.2710   0.5710  127.435   \n",
       "4            0.0707          0.000000    0.4050   0.7580  100.024   \n",
       "...             ...               ...       ...      ...      ...   \n",
       "139443       0.0323          0.000000    0.0991   0.2890  131.049   \n",
       "139444       0.0437          0.000000    0.1030   0.3460   94.039   \n",
       "139445       0.2060          0.000000    0.0997   0.5460  156.977   \n",
       "139446       0.1200          0.000000    0.1310   0.0755  120.049   \n",
       "139447       0.0367          0.000000    0.1080   0.9760  130.128   \n",
       "\n",
       "        duration_ms  time_signature  \n",
       "0            241688               4  \n",
       "1            213293               4  \n",
       "2            180387               4  \n",
       "3            214148               4  \n",
       "4            218093               4  \n",
       "...             ...             ...  \n",
       "139443       190539               4  \n",
       "139444       194583               4  \n",
       "139445       139191               4  \n",
       "139446       180013               4  \n",
       "139447       145827               3  \n",
       "\n",
       "[139448 rows x 15 columns]"
      ]
     },
     "execution_count": 30,
     "metadata": {},
     "output_type": "execute_result"
    }
   ],
   "source": [
    "# Loading auxiliary dataset \n",
    "aux_data = pd.read_csv('Data/SpotifyAudioFeaturesApril2019.csv')\n",
    "aux_data.rename(columns={'artist_name': 'artist'}, inplace=True)\n",
    "aux_data = aux_data[spotify_df.columns]\n",
    "\n",
    "# Concatenating datasets into one big final dataset\n",
    "spotify_df = pd.concat([spotify_df, aux_data], axis = 0)\n",
    "\n",
    "spotify_df = spotify_df.drop_duplicates().reset_index(drop=True)\n",
    "spotify_df"
   ]
  },
  {
   "cell_type": "markdown",
   "id": "1271f8fe",
   "metadata": {},
   "source": [
    "#### Saving our tedious work to a csv file for further work."
   ]
  },
  {
   "cell_type": "code",
   "execution_count": 31,
   "id": "a296cd4a",
   "metadata": {
    "ExecuteTime": {
     "end_time": "2022-10-18T14:49:14.856285Z",
     "start_time": "2022-10-18T14:49:13.780711Z"
    }
   },
   "outputs": [],
   "source": [
    "spotify_df.to_csv('Data/spotify_df.csv',index=False)"
   ]
  }
 ],
 "metadata": {
  "kernelspec": {
   "display_name": "Python 3 (ipykernel)",
   "language": "python",
   "name": "python3"
  },
  "language_info": {
   "codemirror_mode": {
    "name": "ipython",
    "version": 3
   },
   "file_extension": ".py",
   "mimetype": "text/x-python",
   "name": "python",
   "nbconvert_exporter": "python",
   "pygments_lexer": "ipython3",
   "version": "3.9.12"
  },
  "toc": {
   "base_numbering": 1,
   "nav_menu": {},
   "number_sections": true,
   "sideBar": true,
   "skip_h1_title": false,
   "title_cell": "Table of Contents",
   "title_sidebar": "Contents",
   "toc_cell": false,
   "toc_position": {},
   "toc_section_display": true,
   "toc_window_display": false
  }
 },
 "nbformat": 4,
 "nbformat_minor": 5
}
