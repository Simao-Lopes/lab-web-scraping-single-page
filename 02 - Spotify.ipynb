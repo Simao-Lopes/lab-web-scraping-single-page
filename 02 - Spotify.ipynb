{
 "cells": [
  {
   "cell_type": "code",
   "execution_count": 39,
   "id": "b7d8867b",
   "metadata": {
    "ExecuteTime": {
     "end_time": "2022-10-12T15:54:44.544603Z",
     "start_time": "2022-10-12T15:54:44.536596Z"
    }
   },
   "outputs": [],
   "source": [
    "from bs4 import BeautifulSoup\n",
    "import requests\n",
    "import pandas as pd\n",
    "import spotipy\n",
    "from spotipy.oauth2 import SpotifyClientCredentials\n",
    "import random\n",
    "from random import randint\n",
    "from time import sleep\n",
    "import re\n",
    "\n",
    "secrets_file = open(\"spotkey.txt\",\"r\")\n",
    "string = secrets_file.read()\n",
    "\n",
    "secrets_dict={}\n",
    "for line in string.split('\\n'):\n",
    "    if len(line) > 0:\n",
    "        secrets_dict[line.split(':')[0]]=line.split(':')[1]\n",
    "\n",
    "#Initialize SpotiPy with user credentials\n",
    "sp = spotipy.Spotify(auth_manager=SpotifyClientCredentials(client_id=secrets_dict['cid'],\n",
    "                                                           client_secret=secrets_dict['csecret']))"
   ]
  },
  {
   "cell_type": "code",
   "execution_count": 40,
   "id": "1ff25fab",
   "metadata": {
    "ExecuteTime": {
     "end_time": "2022-10-12T15:54:46.950676Z",
     "start_time": "2022-10-12T15:54:45.508708Z"
    }
   },
   "outputs": [
    {
     "data": {
      "text/plain": [
       "200"
      ]
     },
     "execution_count": 40,
     "metadata": {},
     "output_type": "execute_result"
    }
   ],
   "source": [
    "url = \"https://audiohype.io/resources/the-best-spotify-playlists/\"\n",
    "\n",
    "response = requests.get(url)\n",
    "response.status_code"
   ]
  },
  {
   "cell_type": "code",
   "execution_count": 41,
   "id": "211e955b",
   "metadata": {
    "ExecuteTime": {
     "end_time": "2022-10-12T15:54:47.943888Z",
     "start_time": "2022-10-12T15:54:47.906855Z"
    }
   },
   "outputs": [],
   "source": [
    "soup = BeautifulSoup(response.content, \"html.parser\")\n",
    "data = soup.select('.rank-math-link')"
   ]
  },
  {
   "cell_type": "code",
   "execution_count": 42,
   "id": "11d16534",
   "metadata": {
    "ExecuteTime": {
     "end_time": "2022-10-12T15:54:48.993971Z",
     "start_time": "2022-10-12T15:54:48.980078Z"
    }
   },
   "outputs": [],
   "source": [
    "def flatten(input_list):\n",
    "    return [item for sublist in input_list for item in sublist]\n",
    "\n",
    "def reg_replace(x):\n",
    "    return re.findall(r'\\bhttps?:\\/\\/open.spotify\\.com\\/playlist\\/([^\\s?]+)',x)"
   ]
  },
  {
   "cell_type": "code",
   "execution_count": 43,
   "id": "bd3dd873",
   "metadata": {
    "ExecuteTime": {
     "end_time": "2022-10-12T15:54:50.251782Z",
     "start_time": "2022-10-12T15:54:50.242775Z"
    }
   },
   "outputs": [],
   "source": [
    "name = [x.get_text() for x in data]\n",
    "uri = flatten([reg_replace(x['href']) for x in data])\n",
    "\n",
    "playlist_df = pd.DataFrame({\"name\": name[:-1],\n",
    "                       \"uri\": uri\n",
    "                      })\n",
    "\n",
    "playlist_df.loc[len(playlist_df.index)] = ['Really big one', '4rnleEAOdmFAbRcNCgZMpY']"
   ]
  },
  {
   "cell_type": "code",
   "execution_count": 47,
   "id": "2fd17013",
   "metadata": {
    "ExecuteTime": {
     "end_time": "2022-10-12T15:56:04.312772Z",
     "start_time": "2022-10-12T15:56:04.306759Z"
    }
   },
   "outputs": [],
   "source": [
    "def playlist_dff(playlist_id):\n",
    "    flag=False\n",
    "    \n",
    "    #step1\n",
    "    playlist_lst = ['track_id',\"artist\",\"track_name\",\"danceability\",\"energy\",\"key\",\"loudness\",\"mode\", \"speechiness\",\"instrumentalness\",\"liveness\",\"valence\",\"tempo\", \"duration_ms\",\"time_signature\"]\n",
    "    playlist_df = pd.DataFrame(columns = playlist_lst)\n",
    "    \n",
    "    try:\n",
    "        #step2\n",
    "        playlist = sp.playlist_items(playlist_id)\n",
    "        while playlist['next']!=None:\n",
    "            \n",
    "            if flag:\n",
    "                playlist = sp.next(playlist)\n",
    "                # respectful nap\n",
    "                wait_time = random.randint(1,3)\n",
    "                print('Napping for ',wait_time,'s')\n",
    "                sleep(wait_time)\n",
    "            \n",
    "            for track in playlist[\"items\"]:\n",
    "                \n",
    "                # Create empty dict\n",
    "                playlist_features = {}\n",
    "                # Get metadata\n",
    "                playlist_features[\"artist\"] = track[\"track\"][\"album\"][\"artists\"][0][\"name\"]\n",
    "                playlist_features[\"track_name\"] = track[\"track\"][\"name\"]\n",
    "                playlist_features[\"track_id\"] = track[\"track\"][\"id\"]\n",
    "\n",
    "                # Get audio features\n",
    "                audio_features = sp.audio_features(track[\"track\"][\"id\"])[0]\n",
    "                for feature in playlist_lst[3:]:\n",
    "                    playlist_features[feature] = audio_features[feature]\n",
    "\n",
    "                # Concat the dfs\n",
    "                track_df = pd.DataFrame(playlist_features, index = [0])\n",
    "                playlist_df = pd.concat([playlist_df, track_df], ignore_index = True)\n",
    "            \n",
    "            flag = True\n",
    "            print(playlist_id, 'Success!')        \n",
    "    except:\n",
    "        print(playlist_id, 'Invalid playlist')\n",
    "        \n",
    "    return playlist_df"
   ]
  },
  {
   "cell_type": "code",
   "execution_count": 50,
   "id": "843e4076",
   "metadata": {
    "ExecuteTime": {
     "end_time": "2022-10-12T16:10:09.495679Z",
     "start_time": "2022-10-12T15:56:35.713667Z"
    },
    "scrolled": false
   },
   "outputs": [
    {
     "name": "stdout",
     "output_type": "stream",
     "text": [
      "31ymdYCITDnZRtkKzP3Itp Success!\n",
      "Napping for  1 s\n",
      "31ymdYCITDnZRtkKzP3Itp Success!\n",
      "37i9dQZF1DXa71eg5j9dKZ Success!\n",
      "Napping for  1 s\n",
      "37i9dQZF1DXa71eg5j9dKZ Success!\n",
      "5wtqmpRl17iVz2nW8U6njL Invalid playlist\n",
      "0NCspsyf0OS4BsPgGhkQXM Success!\n",
      "Napping for  2 s\n",
      "0NCspsyf0OS4BsPgGhkQXM Success!\n",
      "19y0UVk0bcrJWEqMwBHosj Success!\n",
      "Napping for  3 s\n",
      "19y0UVk0bcrJWEqMwBHosj Success!\n",
      "Napping for  1 s\n",
      "19y0UVk0bcrJWEqMwBHosj Success!\n",
      "Napping for  3 s\n",
      "19y0UVk0bcrJWEqMwBHosj Success!\n",
      "Napping for  2 s\n",
      "19y0UVk0bcrJWEqMwBHosj Success!\n",
      "Napping for  1 s\n",
      "19y0UVk0bcrJWEqMwBHosj Success!\n",
      "Napping for  2 s\n",
      "19y0UVk0bcrJWEqMwBHosj Success!\n",
      "Napping for  3 s\n",
      "19y0UVk0bcrJWEqMwBHosj Success!\n",
      "Napping for  1 s\n",
      "19y0UVk0bcrJWEqMwBHosj Success!\n",
      "Napping for  1 s\n",
      "19y0UVk0bcrJWEqMwBHosj Success!\n",
      "4oOZJEq1TBUti6PSouTo5M Success!\n",
      "Napping for  2 s\n",
      "4oOZJEq1TBUti6PSouTo5M Success!\n",
      "068WHS0zOWsqvn2uIBYb5D Success!\n",
      "Napping for  2 s\n",
      "068WHS0zOWsqvn2uIBYb5D Success!\n",
      "0MSCX9tZWQmitMQsfhvZIl Success!\n",
      "Napping for  2 s\n",
      "0MSCX9tZWQmitMQsfhvZIl Success!\n",
      "1PmwMQY86pJuAm7veFt3u2 Success!\n",
      "Napping for  1 s\n",
      "1PmwMQY86pJuAm7veFt3u2 Success!\n",
      "Napping for  1 s\n",
      "1PmwMQY86pJuAm7veFt3u2 Success!\n",
      "6wjCvkAFovrVIRM8VfZLZG Success!\n",
      "Napping for  3 s\n",
      "6wjCvkAFovrVIRM8VfZLZG Success!\n",
      "Napping for  3 s\n",
      "6wjCvkAFovrVIRM8VfZLZG Success!\n",
      "37i9dQZF1DXc8kgYqQLMfH Success!\n",
      "Napping for  3 s\n",
      "37i9dQZF1DXc8kgYqQLMfH Success!\n",
      "Napping for  3 s\n",
      "37i9dQZF1DXc8kgYqQLMfH Success!\n",
      "Napping for  3 s\n",
      "37i9dQZF1DXc8kgYqQLMfH Success!\n",
      "Napping for  1 s\n",
      "37i9dQZF1DXc8kgYqQLMfH Success!\n",
      "31FWVQBp3WQydWLNhO0ACi Success!\n",
      "Napping for  3 s\n",
      "31FWVQBp3WQydWLNhO0ACi Invalid playlist\n",
      "4rnleEAOdmFAbRcNCgZMpY Success!\n",
      "Napping for  2 s\n",
      "4rnleEAOdmFAbRcNCgZMpY Success!\n",
      "Napping for  2 s\n",
      "4rnleEAOdmFAbRcNCgZMpY Success!\n",
      "Napping for  2 s\n",
      "4rnleEAOdmFAbRcNCgZMpY Success!\n",
      "Napping for  3 s\n",
      "4rnleEAOdmFAbRcNCgZMpY Success!\n",
      "Napping for  1 s\n",
      "4rnleEAOdmFAbRcNCgZMpY Success!\n",
      "Napping for  3 s\n",
      "4rnleEAOdmFAbRcNCgZMpY Success!\n",
      "Napping for  1 s\n",
      "4rnleEAOdmFAbRcNCgZMpY Success!\n",
      "Napping for  2 s\n",
      "4rnleEAOdmFAbRcNCgZMpY Success!\n",
      "Napping for  1 s\n",
      "4rnleEAOdmFAbRcNCgZMpY Success!\n",
      "Napping for  2 s\n",
      "4rnleEAOdmFAbRcNCgZMpY Success!\n",
      "Napping for  3 s\n",
      "4rnleEAOdmFAbRcNCgZMpY Success!\n",
      "Napping for  2 s\n",
      "4rnleEAOdmFAbRcNCgZMpY Success!\n",
      "Napping for  1 s\n",
      "4rnleEAOdmFAbRcNCgZMpY Success!\n",
      "Napping for  1 s\n",
      "4rnleEAOdmFAbRcNCgZMpY Success!\n",
      "Napping for  3 s\n",
      "4rnleEAOdmFAbRcNCgZMpY Success!\n",
      "Napping for  3 s\n",
      "4rnleEAOdmFAbRcNCgZMpY Success!\n",
      "Napping for  1 s\n",
      "4rnleEAOdmFAbRcNCgZMpY Success!\n",
      "Napping for  2 s\n",
      "4rnleEAOdmFAbRcNCgZMpY Success!\n",
      "Napping for  3 s\n",
      "4rnleEAOdmFAbRcNCgZMpY Success!\n",
      "Napping for  3 s\n",
      "4rnleEAOdmFAbRcNCgZMpY Success!\n",
      "Napping for  2 s\n",
      "4rnleEAOdmFAbRcNCgZMpY Success!\n",
      "Napping for  2 s\n",
      "4rnleEAOdmFAbRcNCgZMpY Success!\n",
      "Napping for  3 s\n",
      "4rnleEAOdmFAbRcNCgZMpY Success!\n",
      "Napping for  1 s\n",
      "4rnleEAOdmFAbRcNCgZMpY Success!\n",
      "Napping for  2 s\n",
      "4rnleEAOdmFAbRcNCgZMpY Success!\n",
      "Napping for  2 s\n",
      "4rnleEAOdmFAbRcNCgZMpY Success!\n",
      "Napping for  2 s\n",
      "4rnleEAOdmFAbRcNCgZMpY Success!\n",
      "Napping for  2 s\n",
      "4rnleEAOdmFAbRcNCgZMpY Success!\n",
      "Napping for  3 s\n",
      "4rnleEAOdmFAbRcNCgZMpY Success!\n",
      "Napping for  3 s\n",
      "4rnleEAOdmFAbRcNCgZMpY Success!\n",
      "Napping for  3 s\n",
      "4rnleEAOdmFAbRcNCgZMpY Success!\n",
      "Napping for  1 s\n",
      "4rnleEAOdmFAbRcNCgZMpY Success!\n",
      "Napping for  3 s\n",
      "4rnleEAOdmFAbRcNCgZMpY Success!\n",
      "Napping for  2 s\n",
      "4rnleEAOdmFAbRcNCgZMpY Success!\n",
      "Napping for  1 s\n",
      "4rnleEAOdmFAbRcNCgZMpY Success!\n",
      "Napping for  1 s\n",
      "4rnleEAOdmFAbRcNCgZMpY Success!\n",
      "Napping for  1 s\n",
      "4rnleEAOdmFAbRcNCgZMpY Success!\n",
      "Napping for  1 s\n",
      "4rnleEAOdmFAbRcNCgZMpY Success!\n",
      "Napping for  1 s\n",
      "4rnleEAOdmFAbRcNCgZMpY Success!\n",
      "Napping for  1 s\n",
      "4rnleEAOdmFAbRcNCgZMpY Success!\n",
      "Napping for  3 s\n",
      "4rnleEAOdmFAbRcNCgZMpY Success!\n",
      "Napping for  2 s\n",
      "4rnleEAOdmFAbRcNCgZMpY Success!\n",
      "Napping for  3 s\n",
      "4rnleEAOdmFAbRcNCgZMpY Success!\n",
      "Napping for  3 s\n",
      "4rnleEAOdmFAbRcNCgZMpY Success!\n",
      "Napping for  3 s\n",
      "4rnleEAOdmFAbRcNCgZMpY Success!\n",
      "Napping for  3 s\n",
      "4rnleEAOdmFAbRcNCgZMpY Success!\n",
      "Napping for  1 s\n",
      "4rnleEAOdmFAbRcNCgZMpY Success!\n",
      "Napping for  3 s\n",
      "4rnleEAOdmFAbRcNCgZMpY Success!\n",
      "Napping for  3 s\n",
      "4rnleEAOdmFAbRcNCgZMpY Success!\n",
      "Napping for  3 s\n",
      "4rnleEAOdmFAbRcNCgZMpY Success!\n",
      "Napping for  2 s\n",
      "4rnleEAOdmFAbRcNCgZMpY Success!\n",
      "Napping for  3 s\n",
      "4rnleEAOdmFAbRcNCgZMpY Success!\n"
     ]
    }
   ],
   "source": [
    "spotify_df = pd.DataFrame()\n",
    "\n",
    "for i in playlist_df['uri']:\n",
    "    spotify_df = pd.concat([spotify_df, playlist_dff(i)], axis = 0)\n"
   ]
  },
  {
   "cell_type": "code",
   "execution_count": 53,
   "id": "a296cd4a",
   "metadata": {
    "ExecuteTime": {
     "end_time": "2022-10-12T16:16:06.627484Z",
     "start_time": "2022-10-12T16:16:06.524463Z"
    }
   },
   "outputs": [],
   "source": [
    "spotify_df.drop_duplicates().to_csv('spotify_df.csv',index=False)"
   ]
  }
 ],
 "metadata": {
  "kernelspec": {
   "display_name": "Python 3 (ipykernel)",
   "language": "python",
   "name": "python3"
  },
  "language_info": {
   "codemirror_mode": {
    "name": "ipython",
    "version": 3
   },
   "file_extension": ".py",
   "mimetype": "text/x-python",
   "name": "python",
   "nbconvert_exporter": "python",
   "pygments_lexer": "ipython3",
   "version": "3.9.12"
  },
  "toc": {
   "base_numbering": 1,
   "nav_menu": {},
   "number_sections": true,
   "sideBar": true,
   "skip_h1_title": false,
   "title_cell": "Table of Contents",
   "title_sidebar": "Contents",
   "toc_cell": false,
   "toc_position": {},
   "toc_section_display": true,
   "toc_window_display": false
  }
 },
 "nbformat": 4,
 "nbformat_minor": 5
}
