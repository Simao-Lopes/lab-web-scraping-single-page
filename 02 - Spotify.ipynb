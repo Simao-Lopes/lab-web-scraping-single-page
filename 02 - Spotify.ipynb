{
 "cells": [
  {
   "cell_type": "markdown",
   "id": "71d6b014",
   "metadata": {},
   "source": [
    "### Spotify - grab songs and features"
   ]
  },
  {
   "cell_type": "markdown",
   "id": "d30ae076",
   "metadata": {},
   "source": [
    "#### Basic Initial imports"
   ]
  },
  {
   "cell_type": "code",
   "execution_count": null,
   "id": "b455a42a",
   "metadata": {},
   "outputs": [],
   "source": [
    "from bs4 import BeautifulSoup\n",
    "import requests\n",
    "import pandas as pd\n",
    "import spotipy\n",
    "from spotipy.oauth2 import SpotifyClientCredentials\n",
    "import random\n",
    "from random import randint\n",
    "from time import sleep\n",
    "import re"
   ]
  },
  {
   "cell_type": "markdown",
   "id": "7f8f2f3e",
   "metadata": {},
   "source": [
    "#### Creating the Spotify connection with spotipy object"
   ]
  },
  {
   "cell_type": "code",
   "execution_count": 1,
   "id": "b7d8867b",
   "metadata": {
    "ExecuteTime": {
     "end_time": "2022-10-12T18:16:11.132494Z",
     "start_time": "2022-10-12T18:16:10.669378Z"
    }
   },
   "outputs": [],
   "source": [
    "secrets_file = open(\"spotkey.txt\",\"r\")\n",
    "string = secrets_file.read()\n",
    "\n",
    "secrets_dict={}\n",
    "for line in string.split('\\n'):\n",
    "    if len(line) > 0:\n",
    "        secrets_dict[line.split(':')[0]]=line.split(':')[1]\n",
    "\n",
    "#Initialize SpotiPy with user credentials\n",
    "sp = spotipy.Spotify(auth_manager=SpotifyClientCredentials(client_id=secrets_dict['cid'],\n",
    "                                                           client_secret=secrets_dict['csecret']))"
   ]
  },
  {
   "cell_type": "markdown",
   "id": "532552d2",
   "metadata": {},
   "source": [
    "#### Scraping for playlist URI's"
   ]
  },
  {
   "cell_type": "code",
   "execution_count": 2,
   "id": "1ff25fab",
   "metadata": {
    "ExecuteTime": {
     "end_time": "2022-10-12T18:16:12.662585Z",
     "start_time": "2022-10-12T18:16:11.133496Z"
    }
   },
   "outputs": [
    {
     "data": {
      "text/plain": [
       "200"
      ]
     },
     "execution_count": 2,
     "metadata": {},
     "output_type": "execute_result"
    }
   ],
   "source": [
    "url = \"https://audiohype.io/resources/the-best-spotify-playlists/\"\n",
    "\n",
    "response = requests.get(url)\n",
    "response.status_code"
   ]
  },
  {
   "cell_type": "markdown",
   "id": "d8afaa40",
   "metadata": {},
   "source": [
    "Creating soup to extract the playlist URI's"
   ]
  },
  {
   "cell_type": "code",
   "execution_count": 3,
   "id": "211e955b",
   "metadata": {
    "ExecuteTime": {
     "end_time": "2022-10-12T18:16:12.726735Z",
     "start_time": "2022-10-12T18:16:12.663587Z"
    }
   },
   "outputs": [],
   "source": [
    "soup = BeautifulSoup(response.content, \"html.parser\")\n",
    "data = soup.select('.rank-math-link')"
   ]
  },
  {
   "cell_type": "markdown",
   "id": "d4a60f13",
   "metadata": {
    "ExecuteTime": {
     "end_time": "2022-10-12T18:47:08.565147Z",
     "start_time": "2022-10-12T18:47:08.550527Z"
    }
   },
   "source": [
    "Utility funtions"
   ]
  },
  {
   "cell_type": "code",
   "execution_count": 4,
   "id": "11d16534",
   "metadata": {
    "ExecuteTime": {
     "end_time": "2022-10-12T18:16:12.742739Z",
     "start_time": "2022-10-12T18:16:12.727737Z"
    }
   },
   "outputs": [],
   "source": [
    "def flatten(input_list):\n",
    "    return [item for sublist in input_list for item in sublist]\n",
    "\n",
    "def reg_replace(x):\n",
    "    return re.findall(r'\\bhttps?:\\/\\/open.spotify\\.com\\/playlist\\/([^\\s?]+)',x)"
   ]
  },
  {
   "cell_type": "markdown",
   "id": "def8d657",
   "metadata": {},
   "source": [
    "Creating the playlists dataset and adding nanually 2 rows with big playlists"
   ]
  },
  {
   "cell_type": "code",
   "execution_count": 5,
   "id": "bd3dd873",
   "metadata": {
    "ExecuteTime": {
     "end_time": "2022-10-12T18:16:12.758744Z",
     "start_time": "2022-10-12T18:16:12.743739Z"
    }
   },
   "outputs": [],
   "source": [
    "name = [x.get_text() for x in data]\n",
    "uri = flatten([reg_replace(x['href']) for x in data])\n",
    "\n",
    "playlist_df = pd.DataFrame({\"name\": name[:-1],\n",
    "                       \"uri\": uri\n",
    "                      })\n",
    "\n",
    "playlist_df.loc[len(playlist_df.index)] = ['Really big one', '4rnleEAOdmFAbRcNCgZMpY']\n",
    "playlist_df.loc[len(playlist_df.index)] = ['The longest playlist Official', '5S8SJdl1BDc0ugpkEvFsIL']"
   ]
  },
  {
   "cell_type": "markdown",
   "id": "2b2175bc",
   "metadata": {},
   "source": [
    "#### Main function to extract songs and their features"
   ]
  },
  {
   "cell_type": "code",
   "execution_count": 6,
   "id": "2fd17013",
   "metadata": {
    "ExecuteTime": {
     "end_time": "2022-10-12T18:16:12.774606Z",
     "start_time": "2022-10-12T18:16:12.759601Z"
    }
   },
   "outputs": [],
   "source": [
    "def playlist_dff(playlist_id):\n",
    "    # status flag to check if the list is in the first page or not\n",
    "    flag=False\n",
    "    \n",
    "    # Creatinga a dataframe with the columns that we need\n",
    "    playlist_lst = ['track_id','artist','track_name','danceability','energy','key','loudness',\n",
    "                    'mode', 'speechiness','instrumentalness','liveness','valence','tempo',\n",
    "                    'duration_ms','time_signature']\n",
    "    playlist_df = pd.DataFrame(columns = playlist_lst)\n",
    "    \n",
    "    # Must use a try method because some of the URI's could be invalid.\n",
    "    try:\n",
    "        # Creating the spotipy element for the playlist URI\n",
    "        playlist = sp.playlist_items(playlist_id)\n",
    "        \n",
    "        while playlist['next']!=None:\n",
    "            \n",
    "            # If the flag is true, we have to update the spotipy object to the next page\n",
    "            if flag:\n",
    "                playlist = sp.next(playlist)\n",
    "                # respectful nap\n",
    "                wait_time = random.randint(1,3)\n",
    "                print('Napping for ',wait_time,'s')\n",
    "                sleep(wait_time)\n",
    "            \n",
    "            # for each track on the request we get details and create a dataframe\n",
    "            for track in playlist['items']:\n",
    "                \n",
    "                # Create empty dictionary to be added to the dataframe\n",
    "                playlist_features = {}\n",
    "                # Get metadata for eache track\n",
    "                playlist_features['artist'] = track['track']['album']['artists'][0]['name']\n",
    "                playlist_features['track_name'] = track['track']['name']\n",
    "                playlist_features['track_id'] = track['track']['id']\n",
    "\n",
    "                # Get audio features and adding them to the respective columns\n",
    "                audio_features = sp.audio_features(track['track']['id'])[0]\n",
    "                for feature in playlist_lst[3:]:\n",
    "                    playlist_features[feature] = audio_features[feature]\n",
    "\n",
    "                # Concatenate the dataframes\n",
    "                track_df = pd.DataFrame(playlist_features, index = [0])\n",
    "                playlist_df = pd.concat([playlist_df, track_df], ignore_index = True)\n",
    "            \n",
    "            flag = True\n",
    "            print(playlist_id, 'Success!')        \n",
    "    except:\n",
    "        print(playlist_id, 'Invalid playlist')\n",
    "        \n",
    "    return playlist_df"
   ]
  },
  {
   "cell_type": "markdown",
   "id": "85b9faed",
   "metadata": {},
   "source": [
    "#### Creating a dataframe to host the results from the API"
   ]
  },
  {
   "cell_type": "code",
   "execution_count": null,
   "id": "843e4076",
   "metadata": {
    "scrolled": true
   },
   "outputs": [],
   "source": [
    "spotify_df = pd.DataFrame()\n",
    "\n",
    "for i in playlist_df['uri']:\n",
    "    spotify_df = pd.concat([spotify_df, playlist_dff(i)], axis = 0)\n"
   ]
  },
  {
   "cell_type": "markdown",
   "id": "1271f8fe",
   "metadata": {},
   "source": [
    "#### Saving our tedious work to a csv file for further work."
   ]
  },
  {
   "cell_type": "code",
   "execution_count": 13,
   "id": "a296cd4a",
   "metadata": {
    "ExecuteTime": {
     "end_time": "2022-10-12T18:42:56.643496Z",
     "start_time": "2022-10-12T18:42:56.517393Z"
    }
   },
   "outputs": [],
   "source": [
    "spotify_df.drop_duplicates().to_csv('spotify_df.csv',index=False)"
   ]
  }
 ],
 "metadata": {
  "kernelspec": {
   "display_name": "Python 3 (ipykernel)",
   "language": "python",
   "name": "python3"
  },
  "language_info": {
   "codemirror_mode": {
    "name": "ipython",
    "version": 3
   },
   "file_extension": ".py",
   "mimetype": "text/x-python",
   "name": "python",
   "nbconvert_exporter": "python",
   "pygments_lexer": "ipython3",
   "version": "3.9.12"
  },
  "toc": {
   "base_numbering": 1,
   "nav_menu": {},
   "number_sections": true,
   "sideBar": true,
   "skip_h1_title": false,
   "title_cell": "Table of Contents",
   "title_sidebar": "Contents",
   "toc_cell": false,
   "toc_position": {},
   "toc_section_display": true,
   "toc_window_display": false
  }
 },
 "nbformat": 4,
 "nbformat_minor": 5
}
