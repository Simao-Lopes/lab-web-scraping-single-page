{
 "cells": [
  {
   "cell_type": "markdown",
   "id": "8ae3cc36",
   "metadata": {},
   "source": [
    "#### Basic work libraries "
   ]
  },
  {
   "cell_type": "code",
   "execution_count": null,
   "id": "44bcbefc",
   "metadata": {},
   "outputs": [],
   "source": [
    "import pandas as pd\n",
    "import spotipy\n",
    "from spotipy.oauth2 import SpotifyClientCredentials\n",
    "import random\n",
    "from random import randint\n",
    "from time import sleep"
   ]
  },
  {
   "cell_type": "markdown",
   "id": "28e43181",
   "metadata": {},
   "source": [
    "##### Reading our data csv to a dataset"
   ]
  },
  {
   "cell_type": "code",
   "execution_count": null,
   "id": "fb74f95a",
   "metadata": {},
   "outputs": [],
   "source": [
    "data = pd.read_csv('Data/Top 100 songs worldwide.csv')"
   ]
  },
  {
   "cell_type": "markdown",
   "id": "fc946294",
   "metadata": {},
   "source": [
    "##### Creating the Spotify connection with spotipy object"
   ]
  },
  {
   "cell_type": "code",
   "execution_count": null,
   "id": "c594244f",
   "metadata": {},
   "outputs": [],
   "source": [
    "secrets_file = open(\"spotkey.txt\",\"r\")\n",
    "string = secrets_file.read()\n",
    "\n",
    "secrets_dict={}\n",
    "for line in string.split('\\n'):\n",
    "    if len(line) > 0:\n",
    "        secrets_dict[line.split(':')[0]]=line.split(':')[1]\n",
    "\n",
    "#Initialize SpotiPy with user credentials\n",
    "sp = spotipy.Spotify(auth_manager=SpotifyClientCredentials(client_id=secrets_dict['cid'],\n",
    "                                                           client_secret=secrets_dict['csecret']))"
   ]
  },
  {
   "cell_type": "code",
   "execution_count": null,
   "id": "3b6defd7",
   "metadata": {},
   "outputs": [],
   "source": [
    "# small function to take a respectfull nap of 1-3 s\n",
    "def nap():\n",
    "    sleep(randint(1,3))\n",
    "    return None"
   ]
  },
  {
   "cell_type": "code",
   "execution_count": null,
   "id": "66e6edac",
   "metadata": {},
   "outputs": [],
   "source": [
    "# Function to get a uri of a song title provided as string\n",
    "def song_uri(song_id):\n",
    "    try:\n",
    "        # Creating the spotipy element for the playlist URI\n",
    "        querry = 'track:'+str(song_id)\n",
    "        nap()\n",
    "        track = sp.search(q=song_id, limit=1)\n",
    "        return track['tracks']['items'][0]['uri'].split('spotify:track:')[1]                 \n",
    "    except:\n",
    "        # if the process fails a Null string is returned\n",
    "        return 'Null'"
   ]
  },
  {
   "cell_type": "code",
   "execution_count": null,
   "id": "da2f1fd0",
   "metadata": {},
   "outputs": [],
   "source": [
    "data.head(3)"
   ]
  },
  {
   "cell_type": "markdown",
   "id": "4eb54271",
   "metadata": {},
   "source": [
    "##### Creating a list of all uri's for all songs in the dataset"
   ]
  },
  {
   "cell_type": "code",
   "execution_count": null,
   "id": "ce0d76b4",
   "metadata": {
    "scrolled": true
   },
   "outputs": [],
   "source": [
    "lst = []\n",
    "for i in data['song']:\n",
    "    lst.append(song_uri(i))\n",
    "    print(i, 'done')"
   ]
  },
  {
   "cell_type": "markdown",
   "id": "7dc77727",
   "metadata": {},
   "source": [
    "##### Creating a new uri column, discarding all Null rows(no uri) and saving to a csv file"
   ]
  },
  {
   "cell_type": "code",
   "execution_count": null,
   "id": "2dc703e6",
   "metadata": {},
   "outputs": [],
   "source": [
    "data['uri'] = lst\n",
    "print(data.shape)\n",
    "data = data[data['uri'] != 'Null']\n",
    "print(data.shape)\n",
    "\n",
    "data.to_csv('Data/Final/Top100.csv')"
   ]
  }
 ],
 "metadata": {
  "kernelspec": {
   "display_name": "Python 3 (ipykernel)",
   "language": "python",
   "name": "python3"
  },
  "language_info": {
   "codemirror_mode": {
    "name": "ipython",
    "version": 3
   },
   "file_extension": ".py",
   "mimetype": "text/x-python",
   "name": "python",
   "nbconvert_exporter": "python",
   "pygments_lexer": "ipython3",
   "version": "3.9.12"
  },
  "toc": {
   "base_numbering": 1,
   "nav_menu": {},
   "number_sections": true,
   "sideBar": true,
   "skip_h1_title": false,
   "title_cell": "Table of Contents",
   "title_sidebar": "Contents",
   "toc_cell": false,
   "toc_position": {},
   "toc_section_display": true,
   "toc_window_display": false
  }
 },
 "nbformat": 4,
 "nbformat_minor": 5
}
