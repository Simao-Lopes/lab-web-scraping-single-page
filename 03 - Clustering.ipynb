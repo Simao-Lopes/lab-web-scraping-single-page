{
 "cells": [
  {
   "cell_type": "markdown",
   "id": "b66bbf88",
   "metadata": {},
   "source": [
    "### Importing Libraries"
   ]
  },
  {
   "cell_type": "code",
   "execution_count": 1,
   "id": "ac1820f1",
   "metadata": {
    "ExecuteTime": {
     "end_time": "2022-10-14T07:18:12.254725Z",
     "start_time": "2022-10-14T07:18:06.053174Z"
    }
   },
   "outputs": [],
   "source": [
    "import numpy as np\n",
    "import matplotlib.pyplot as plt\n",
    "import pandas as pd\n",
    "import warnings\n",
    "import random\n",
    "\n",
    "\n",
    "from sklearn.metrics import silhouette_score\n",
    "from sklearn.cluster import KMeans\n",
    "from sklearn.preprocessing import StandardScaler\n",
    "from sklearn import cluster\n",
    "\n",
    "warnings.filterwarnings(\"ignore\")"
   ]
  },
  {
   "cell_type": "markdown",
   "id": "990addba",
   "metadata": {},
   "source": [
    "#### Importing previously generated dataset via spotify API and concatenating with an existing dataset"
   ]
  },
  {
   "cell_type": "code",
   "execution_count": 2,
   "id": "fe77afe6",
   "metadata": {
    "ExecuteTime": {
     "end_time": "2022-10-14T07:18:13.902672Z",
     "start_time": "2022-10-14T07:18:13.470865Z"
    }
   },
   "outputs": [],
   "source": [
    "data = pd.read_csv('Data/spotify_df.csv')\n",
    "\n",
    "# Loading auxiliary dataset \n",
    "aux_data = pd.read_csv('Data/SpotifyAudioFeaturesApril2019.csv')\n",
    "aux_data.rename(columns={'artist_name': 'artist'}, inplace=True)\n",
    "aux_data = aux_data[data.columns]"
   ]
  },
  {
   "cell_type": "code",
   "execution_count": 3,
   "id": "a39c2e77",
   "metadata": {
    "ExecuteTime": {
     "end_time": "2022-10-14T07:18:26.438414Z",
     "start_time": "2022-10-14T07:18:26.415394Z"
    }
   },
   "outputs": [],
   "source": [
    "# Concatenating datasets into one big final dataset\n",
    "data = pd.concat([data, aux_data], axis = 0)\n",
    "# Saving full dataset to csv for further usage\n",
    "data.to_csv('Data/Full_List.csv',index=False)"
   ]
  },
  {
   "cell_type": "markdown",
   "id": "629a8414",
   "metadata": {},
   "source": [
    "### Creating the clusters"
   ]
  },
  {
   "cell_type": "code",
   "execution_count": 4,
   "id": "c3e3acac",
   "metadata": {
    "ExecuteTime": {
     "end_time": "2022-10-14T07:18:35.278308Z",
     "start_time": "2022-10-14T07:18:35.250755Z"
    }
   },
   "outputs": [],
   "source": [
    "# Selecting the rows to model\n",
    "X = data.drop(columns = ['track_id', 'artist', 'track_name'])"
   ]
  },
  {
   "cell_type": "code",
   "execution_count": 5,
   "id": "e3135560",
   "metadata": {
    "ExecuteTime": {
     "end_time": "2022-10-14T07:18:39.476866Z",
     "start_time": "2022-10-14T07:18:39.462328Z"
    }
   },
   "outputs": [],
   "source": [
    "# Function to pickle the scaler used for further usage\n",
    "def export_scaler(scaler):\n",
    "    import pickle\n",
    "    filename = 'Model_data/scaler.sav'\n",
    "    pickle.dump(scaler, open(filename, 'wb'))"
   ]
  },
  {
   "cell_type": "code",
   "execution_count": 6,
   "id": "be3d6b50",
   "metadata": {
    "ExecuteTime": {
     "end_time": "2022-10-14T07:18:57.215869Z",
     "start_time": "2022-10-14T07:18:57.162819Z"
    }
   },
   "outputs": [
    {
     "data": {
      "text/html": [
       "<div>\n",
       "<style scoped>\n",
       "    .dataframe tbody tr th:only-of-type {\n",
       "        vertical-align: middle;\n",
       "    }\n",
       "\n",
       "    .dataframe tbody tr th {\n",
       "        vertical-align: top;\n",
       "    }\n",
       "\n",
       "    .dataframe thead th {\n",
       "        text-align: right;\n",
       "    }\n",
       "</style>\n",
       "<table border=\"1\" class=\"dataframe\">\n",
       "  <thead>\n",
       "    <tr style=\"text-align: right;\">\n",
       "      <th></th>\n",
       "      <th>danceability</th>\n",
       "      <th>energy</th>\n",
       "      <th>key</th>\n",
       "      <th>loudness</th>\n",
       "      <th>mode</th>\n",
       "      <th>speechiness</th>\n",
       "      <th>instrumentalness</th>\n",
       "      <th>liveness</th>\n",
       "      <th>valence</th>\n",
       "      <th>tempo</th>\n",
       "      <th>duration_ms</th>\n",
       "      <th>time_signature</th>\n",
       "    </tr>\n",
       "  </thead>\n",
       "  <tbody>\n",
       "    <tr>\n",
       "      <th>0</th>\n",
       "      <td>-0.345713</td>\n",
       "      <td>0.587435</td>\n",
       "      <td>0.211534</td>\n",
       "      <td>0.677978</td>\n",
       "      <td>-1.243422</td>\n",
       "      <td>-0.444162</td>\n",
       "      <td>-0.602845</td>\n",
       "      <td>0.707805</td>\n",
       "      <td>0.850125</td>\n",
       "      <td>1.780318</td>\n",
       "      <td>-0.385653</td>\n",
       "      <td>0.227316</td>\n",
       "    </tr>\n",
       "    <tr>\n",
       "      <th>1</th>\n",
       "      <td>0.638555</td>\n",
       "      <td>0.842888</td>\n",
       "      <td>-1.453397</td>\n",
       "      <td>0.586136</td>\n",
       "      <td>0.804232</td>\n",
       "      <td>-0.511574</td>\n",
       "      <td>-0.603591</td>\n",
       "      <td>-0.839745</td>\n",
       "      <td>1.481751</td>\n",
       "      <td>0.659103</td>\n",
       "      <td>-0.543247</td>\n",
       "      <td>0.227316</td>\n",
       "    </tr>\n",
       "    <tr>\n",
       "      <th>2</th>\n",
       "      <td>0.542268</td>\n",
       "      <td>-0.329872</td>\n",
       "      <td>-1.175909</td>\n",
       "      <td>0.404323</td>\n",
       "      <td>0.804232</td>\n",
       "      <td>-0.610225</td>\n",
       "      <td>-0.605524</td>\n",
       "      <td>1.257052</td>\n",
       "      <td>0.997375</td>\n",
       "      <td>1.615651</td>\n",
       "      <td>0.156750</td>\n",
       "      <td>0.227316</td>\n",
       "    </tr>\n",
       "    <tr>\n",
       "      <th>3</th>\n",
       "      <td>1.344661</td>\n",
       "      <td>0.633881</td>\n",
       "      <td>1.321488</td>\n",
       "      <td>0.527195</td>\n",
       "      <td>-1.243422</td>\n",
       "      <td>-0.362775</td>\n",
       "      <td>-0.605688</td>\n",
       "      <td>0.852661</td>\n",
       "      <td>1.082625</td>\n",
       "      <td>-0.366034</td>\n",
       "      <td>-0.180305</td>\n",
       "      <td>0.227316</td>\n",
       "    </tr>\n",
       "  </tbody>\n",
       "</table>\n",
       "</div>"
      ],
      "text/plain": [
       "   danceability    energy       key  loudness      mode  speechiness  \\\n",
       "0     -0.345713  0.587435  0.211534  0.677978 -1.243422    -0.444162   \n",
       "1      0.638555  0.842888 -1.453397  0.586136  0.804232    -0.511574   \n",
       "2      0.542268 -0.329872 -1.175909  0.404323  0.804232    -0.610225   \n",
       "3      1.344661  0.633881  1.321488  0.527195 -1.243422    -0.362775   \n",
       "\n",
       "   instrumentalness  liveness   valence     tempo  duration_ms  time_signature  \n",
       "0         -0.602845  0.707805  0.850125  1.780318    -0.385653        0.227316  \n",
       "1         -0.603591 -0.839745  1.481751  0.659103    -0.543247        0.227316  \n",
       "2         -0.605524  1.257052  0.997375  1.615651     0.156750        0.227316  \n",
       "3         -0.605688  0.852661  1.082625 -0.366034    -0.180305        0.227316  "
      ]
     },
     "execution_count": 6,
     "metadata": {},
     "output_type": "execute_result"
    }
   ],
   "source": [
    "# Scaling and pickling the dataset\n",
    "scaler = StandardScaler().fit(X)\n",
    "X_train = pd.DataFrame(scaler.transform(X), columns = X.columns)\n",
    "export_scaler(scaler)\n",
    "X_train.head(4)"
   ]
  },
  {
   "cell_type": "markdown",
   "id": "cfd2b841",
   "metadata": {},
   "source": [
    "#### Function to plot and choose the best node size"
   ]
  },
  {
   "cell_type": "code",
   "execution_count": null,
   "id": "d8aefd31",
   "metadata": {},
   "outputs": [],
   "source": [
    "K = range(2, 10)\n",
    "inertia = []\n",
    "silhouette = []\n",
    "\n",
    "for k in K:\n",
    "    print(k)\n",
    "    kmeans = cluster.KMeans(n_clusters=k)\n",
    "    kmeans.fit(X_train)\n",
    "    inertia.append(kmeans.inertia_)\n",
    "    silhouette.append(silhouette_score(X_train, kmeans.predict(X_train)))\n",
    "\n",
    "%matplotlib inline\n",
    "\n",
    "plt.figure(figsize=(16,8))\n",
    "plt.plot(K, inertia, 'bx-')\n",
    "plt.xlabel('k')\n",
    "plt.ylabel('inertia')\n",
    "plt.xticks(np.arange(min(K), max(K)+1, 1.0))\n",
    "plt.title('Elbow Method showing the optimal k')\n",
    "\n",
    "plt.show()\n",
    "\n",
    "plt.figure(figsize=(16,8))\n",
    "plt.plot(K, silhouette, 'bx-')\n",
    "plt.xlabel('k')\n",
    "plt.ylabel('silhouette score')\n",
    "plt.xticks(np.arange(min(K), max(K)+1, 1.0))\n",
    "plt.title('Silhouette score showing the optimal k')"
   ]
  },
  {
   "attachments": {
    "Inertia%20Plot.png": {
     "image/png": "[encoded data removed]"
    }
   },
   "cell_type": "markdown",
   "id": "2452a291",
   "metadata": {},
   "source": [
    "Inertia Score\n",
    "![Inertia%20Plot.png](attachment:Inertia%20Plot.png)"
   ]
  },
  {
   "attachments": {
    "Silhouette%20Plot.png": {
     "image/png": "[encoded data removed]"
    }
   },
   "cell_type": "markdown",
   "id": "e8fc2ea9",
   "metadata": {},
   "source": [
    "Silhouette Score\n",
    "![Silhouette%20Plot.png](attachment:Silhouette%20Plot.png)"
   ]
  },
  {
   "cell_type": "markdown",
   "id": "d2bb9ccc",
   "metadata": {},
   "source": [
    "### Choosing clustering mode"
   ]
  },
  {
   "cell_type": "code",
   "execution_count": 8,
   "id": "504cd58d",
   "metadata": {
    "ExecuteTime": {
     "end_time": "2022-10-14T07:42:40.569268Z",
     "start_time": "2022-10-14T07:42:40.555262Z"
    }
   },
   "outputs": [],
   "source": [
    "# Function that builds and evaluates every model that is provided\n",
    "def eval_model(model, nodes):\n",
    "    print('Training', type(model).__name__)\n",
    "    clusters = model.fit_predict(X_train)\n",
    "    print('\\n',type(model).__name__,'with nodes',nodes,'Silhouette score: ', round(silhouette_score(X_train, clusters), 2))\n",
    "    print(pd.Series(clusters).value_counts().sort_index())\n",
    "    return None"
   ]
  },
  {
   "cell_type": "code",
   "execution_count": 9,
   "id": "35533247",
   "metadata": {
    "ExecuteTime": {
     "end_time": "2022-10-14T07:42:40.585145Z",
     "start_time": "2022-10-14T07:42:40.570141Z"
    },
    "scrolled": false
   },
   "outputs": [],
   "source": [
    "from sklearn.cluster import BisectingKMeans\n",
    "\n",
    "# Creating a list of models to be evaluated\n",
    "node = 8\n",
    "models = [KMeans(n_clusters=node), \n",
    "          cluster.KMeans(n_clusters=node),\n",
    "          BisectingKMeans(n_clusters=node)]\n",
    "\n",
    "# Loop that goes through all models, builds and evaluates them.\n",
    "# for model in models:\n",
    "#     eval_model(model, node)"
   ]
  },
  {
   "cell_type": "markdown",
   "id": "46003340",
   "metadata": {},
   "source": [
    "#### Listening to songs and try to check validity"
   ]
  },
  {
   "cell_type": "code",
   "execution_count": 10,
   "id": "462d5cec",
   "metadata": {
    "ExecuteTime": {
     "end_time": "2022-10-14T07:42:42.407722Z",
     "start_time": "2022-10-14T07:42:40.587147Z"
    }
   },
   "outputs": [],
   "source": [
    "# Building the final model and makin predictions\n",
    "model = models[1].fit(X_train)\n",
    "clusters = model.predict(X_train)"
   ]
  },
  {
   "cell_type": "code",
   "execution_count": 12,
   "id": "c56cc579",
   "metadata": {
    "ExecuteTime": {
     "end_time": "2022-10-14T07:42:42.439751Z",
     "start_time": "2022-10-14T07:42:42.425738Z"
    }
   },
   "outputs": [],
   "source": [
    "# Adding a column with clusters ID\n",
    "data['cluster'] = clusters"
   ]
  },
  {
   "cell_type": "markdown",
   "id": "ff7fad07",
   "metadata": {},
   "source": [
    "#### Saving clustered dataset to csv"
   ]
  },
  {
   "cell_type": "code",
   "execution_count": 13,
   "id": "764b4117",
   "metadata": {
    "ExecuteTime": {
     "end_time": "2022-10-14T07:42:43.582391Z",
     "start_time": "2022-10-14T07:42:42.441753Z"
    }
   },
   "outputs": [
    {
     "data": {
      "text/html": [
       "<div>\n",
       "<style scoped>\n",
       "    .dataframe tbody tr th:only-of-type {\n",
       "        vertical-align: middle;\n",
       "    }\n",
       "\n",
       "    .dataframe tbody tr th {\n",
       "        vertical-align: top;\n",
       "    }\n",
       "\n",
       "    .dataframe thead th {\n",
       "        text-align: right;\n",
       "    }\n",
       "</style>\n",
       "<table border=\"1\" class=\"dataframe\">\n",
       "  <thead>\n",
       "    <tr style=\"text-align: right;\">\n",
       "      <th></th>\n",
       "      <th>track_id</th>\n",
       "      <th>artist</th>\n",
       "      <th>track_name</th>\n",
       "      <th>danceability</th>\n",
       "      <th>energy</th>\n",
       "      <th>key</th>\n",
       "      <th>loudness</th>\n",
       "      <th>mode</th>\n",
       "      <th>speechiness</th>\n",
       "      <th>instrumentalness</th>\n",
       "      <th>liveness</th>\n",
       "      <th>valence</th>\n",
       "      <th>tempo</th>\n",
       "      <th>duration_ms</th>\n",
       "      <th>time_signature</th>\n",
       "      <th>cluster</th>\n",
       "    </tr>\n",
       "  </thead>\n",
       "  <tbody>\n",
       "    <tr>\n",
       "      <th>0</th>\n",
       "      <td>4LRPiXqCikLlN15c3yImP7</td>\n",
       "      <td>Harry Styles</td>\n",
       "      <td>As It Was</td>\n",
       "      <td>0.520</td>\n",
       "      <td>0.731</td>\n",
       "      <td>6</td>\n",
       "      <td>-5.338</td>\n",
       "      <td>0</td>\n",
       "      <td>0.0557</td>\n",
       "      <td>0.001010</td>\n",
       "      <td>0.3110</td>\n",
       "      <td>0.662</td>\n",
       "      <td>173.930</td>\n",
       "      <td>167303</td>\n",
       "      <td>4</td>\n",
       "      <td>6</td>\n",
       "    </tr>\n",
       "    <tr>\n",
       "      <th>1</th>\n",
       "      <td>4h9wh7iOZ0GGn8QVp4RAOB</td>\n",
       "      <td>OneRepublic</td>\n",
       "      <td>I Ain't Worried</td>\n",
       "      <td>0.704</td>\n",
       "      <td>0.797</td>\n",
       "      <td>0</td>\n",
       "      <td>-5.927</td>\n",
       "      <td>1</td>\n",
       "      <td>0.0475</td>\n",
       "      <td>0.000745</td>\n",
       "      <td>0.0546</td>\n",
       "      <td>0.825</td>\n",
       "      <td>139.994</td>\n",
       "      <td>148486</td>\n",
       "      <td>4</td>\n",
       "      <td>2</td>\n",
       "    </tr>\n",
       "    <tr>\n",
       "      <th>2</th>\n",
       "      <td>4k6Uh1HXdhtusDW5y8Gbvy</td>\n",
       "      <td>Steve Lacy</td>\n",
       "      <td>Bad Habit</td>\n",
       "      <td>0.686</td>\n",
       "      <td>0.494</td>\n",
       "      <td>1</td>\n",
       "      <td>-7.093</td>\n",
       "      <td>1</td>\n",
       "      <td>0.0355</td>\n",
       "      <td>0.000058</td>\n",
       "      <td>0.4020</td>\n",
       "      <td>0.700</td>\n",
       "      <td>168.946</td>\n",
       "      <td>232067</td>\n",
       "      <td>4</td>\n",
       "      <td>2</td>\n",
       "    </tr>\n",
       "    <tr>\n",
       "      <th>3</th>\n",
       "      <td>1PckUlxKqWQs3RlWXVBLw3</td>\n",
       "      <td>Lizzo</td>\n",
       "      <td>About Damn Time</td>\n",
       "      <td>0.836</td>\n",
       "      <td>0.743</td>\n",
       "      <td>10</td>\n",
       "      <td>-6.305</td>\n",
       "      <td>0</td>\n",
       "      <td>0.0656</td>\n",
       "      <td>0.000000</td>\n",
       "      <td>0.3350</td>\n",
       "      <td>0.722</td>\n",
       "      <td>108.966</td>\n",
       "      <td>191822</td>\n",
       "      <td>4</td>\n",
       "      <td>6</td>\n",
       "    </tr>\n",
       "    <tr>\n",
       "      <th>4</th>\n",
       "      <td>3nqQXoyQOWXiESFLlDF1hG</td>\n",
       "      <td>Sam Smith</td>\n",
       "      <td>Unholy (feat. Kim Petras)</td>\n",
       "      <td>0.714</td>\n",
       "      <td>0.472</td>\n",
       "      <td>2</td>\n",
       "      <td>-7.375</td>\n",
       "      <td>1</td>\n",
       "      <td>0.0864</td>\n",
       "      <td>0.000005</td>\n",
       "      <td>0.2660</td>\n",
       "      <td>0.238</td>\n",
       "      <td>131.121</td>\n",
       "      <td>156943</td>\n",
       "      <td>4</td>\n",
       "      <td>3</td>\n",
       "    </tr>\n",
       "  </tbody>\n",
       "</table>\n",
       "</div>"
      ],
      "text/plain": [
       "                 track_id        artist                 track_name  \\\n",
       "0  4LRPiXqCikLlN15c3yImP7  Harry Styles                  As It Was   \n",
       "1  4h9wh7iOZ0GGn8QVp4RAOB   OneRepublic            I Ain't Worried   \n",
       "2  4k6Uh1HXdhtusDW5y8Gbvy    Steve Lacy                  Bad Habit   \n",
       "3  1PckUlxKqWQs3RlWXVBLw3         Lizzo            About Damn Time   \n",
       "4  3nqQXoyQOWXiESFLlDF1hG     Sam Smith  Unholy (feat. Kim Petras)   \n",
       "\n",
       "   danceability  energy  key  loudness  mode  speechiness  instrumentalness  \\\n",
       "0         0.520   0.731    6    -5.338     0       0.0557          0.001010   \n",
       "1         0.704   0.797    0    -5.927     1       0.0475          0.000745   \n",
       "2         0.686   0.494    1    -7.093     1       0.0355          0.000058   \n",
       "3         0.836   0.743   10    -6.305     0       0.0656          0.000000   \n",
       "4         0.714   0.472    2    -7.375     1       0.0864          0.000005   \n",
       "\n",
       "   liveness  valence    tempo  duration_ms  time_signature  cluster  \n",
       "0    0.3110    0.662  173.930       167303               4        6  \n",
       "1    0.0546    0.825  139.994       148486               4        2  \n",
       "2    0.4020    0.700  168.946       232067               4        2  \n",
       "3    0.3350    0.722  108.966       191822               4        6  \n",
       "4    0.2660    0.238  131.121       156943               4        3  "
      ]
     },
     "execution_count": 13,
     "metadata": {},
     "output_type": "execute_result"
    }
   ],
   "source": [
    "data.to_csv('Data/Final/Spotify dataset clustered.csv', index = False)\n",
    "data.head(5)"
   ]
  },
  {
   "cell_type": "markdown",
   "id": "a6529984",
   "metadata": {},
   "source": [
    "#### Link generation for music listening of the clusters"
   ]
  },
  {
   "cell_type": "code",
   "execution_count": null,
   "id": "f67b6511",
   "metadata": {},
   "outputs": [],
   "source": [
    "for i in pd.unique(data['cluster']):\n",
    "    subset = list(data['track_id'][data['cluster'] == i])\n",
    "    print('GROUP', i)\n",
    "    for j in range(5):\n",
    "        print('https://open.spotify.com/track/'+subset[random.randint(0,len(subset))])"
   ]
  },
  {
   "cell_type": "markdown",
   "id": "bc4eaec8",
   "metadata": {},
   "source": [
    "##### Pickle model"
   ]
  },
  {
   "cell_type": "code",
   "execution_count": 15,
   "id": "8e3b260c",
   "metadata": {
    "ExecuteTime": {
     "end_time": "2022-10-14T07:42:43.630430Z",
     "start_time": "2022-10-14T07:42:43.615422Z"
    }
   },
   "outputs": [],
   "source": [
    "def export_model(model):\n",
    "    import pickle\n",
    "    filename = 'Model_data/model_clustering.sav'\n",
    "    pickle.dump(model, open(filename, 'wb'))"
   ]
  },
  {
   "cell_type": "code",
   "execution_count": 16,
   "id": "5103f069",
   "metadata": {
    "ExecuteTime": {
     "end_time": "2022-10-14T07:42:43.646060Z",
     "start_time": "2022-10-14T07:42:43.632068Z"
    }
   },
   "outputs": [],
   "source": [
    "# Saving the model for further usage\n",
    "export_model(model)"
   ]
  }
 ],
 "metadata": {
  "kernelspec": {
   "display_name": "Python 3 (ipykernel)",
   "language": "python",
   "name": "python3"
  },
  "language_info": {
   "codemirror_mode": {
    "name": "ipython",
    "version": 3
   },
   "file_extension": ".py",
   "mimetype": "text/x-python",
   "name": "python",
   "nbconvert_exporter": "python",
   "pygments_lexer": "ipython3",
   "version": "3.9.12"
  },
  "toc": {
   "base_numbering": 1,
   "nav_menu": {},
   "number_sections": true,
   "sideBar": true,
   "skip_h1_title": false,
   "title_cell": "Table of Contents",
   "title_sidebar": "Contents",
   "toc_cell": false,
   "toc_position": {},
   "toc_section_display": true,
   "toc_window_display": false
  }
 },
 "nbformat": 4,
 "nbformat_minor": 5
}
